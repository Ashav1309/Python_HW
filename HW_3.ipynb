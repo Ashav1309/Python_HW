{
  "nbformat": 4,
  "nbformat_minor": 0,
  "metadata": {
    "colab": {
      "provenance": []
    },
    "kernelspec": {
      "name": "python3",
      "display_name": "Python 3"
    },
    "language_info": {
      "name": "python"
    }
  },
  "cells": [
    {
      "cell_type": "markdown",
      "source": [
        "# **Практическая работа 3**"
      ],
      "metadata": {
        "id": "JPa_s_yMKJ0U"
      }
    },
    {
      "cell_type": "markdown",
      "source": [
        "**Задача 1**\n",
        "\n",
        "Дано N предметов массой m1, …, mN и стоимостью c1, …, cN соответственно.\n",
        "\n",
        "Ими наполняют рюкзак, который выдерживает вес не более M. Какую наибольшую стоимость могут иметь предметы в рюкзаке?\n",
        "\n",
        "Входные данные:\n",
        "\n",
        "В первой строке вводится натуральное число N, не превышающее 100, и натуральное число M, не превышающее 10000.\n",
        "\n",
        "Во второй строке вводится N натуральных чисел mi, не превышающих 100.\n",
        "\n",
        "Во третьей строке вводится N натуральных чисел сi, не превышающих 100.\n",
        "\n",
        "Выходные данные:\n",
        "\n",
        "Выведите одно целое число: наибольшую возможную стоимость рюкзака."
      ],
      "metadata": {
        "id": "98_D3HQqKOWv"
      }
    },
    {
      "cell_type": "code",
      "execution_count": 11,
      "metadata": {
        "colab": {
          "base_uri": "https://localhost:8080/"
        },
        "id": "I-FM6LapKF2n",
        "outputId": "cf3bc616-2ffa-44b9-dff7-6984d0e63fbd"
      },
      "outputs": [
        {
          "output_type": "stream",
          "name": "stdout",
          "text": [
            "4 6\n",
            "2 4 1 2\n",
            "7 2 5 1\n",
            "13\n"
          ]
        }
      ],
      "source": [
        "N, M = map(int, input().split()) # N - количество предметов, M - предельная масса\n",
        "weight = [int(i) for i in input().split()] # веса\n",
        "cost = [int(i) for i in input().split()]   # стоимости\n",
        "weight.insert(0, 0)\n",
        "cost.insert(0, 0)\n",
        "A = []\n",
        "for i in range(N+1):\n",
        "    A.append([0]*(M+1))\n",
        "\n",
        "for n in range(1, N+1):\n",
        "    for m in range(M+1):\n",
        "        A[n][m] = A[n-1][m]\n",
        "        if (m >= weight[n] and A[n-1][m-weight[n]] + cost[n] > A[n][m]):\n",
        "          A[n][m] =  A[n-1][m-weight[n]] + cost[n]\n",
        "\n",
        "print(A[N][M])"
      ]
    },
    {
      "cell_type": "markdown",
      "source": [
        "**Задача 2**\n",
        "\n",
        "Дан набор гирь массой m1, …, mN. Можно ли их разложить на две чаши весов, чтобы они оказались в равновесии?\n",
        "\n",
        "Входные данные:\n",
        "\n",
        "В первой строке вводится натуральное число N, не превышающее 100.\n",
        "\n",
        "Во второе строке вводится N натуральных чисел mi, не превышающих 100.\n",
        "\n",
        "Выходные данные:\n",
        "\n",
        "Выведите True или False."
      ],
      "metadata": {
        "id": "WtqlLt0UMaFR"
      }
    },
    {
      "cell_type": "code",
      "source": [
        "def task_2(N, weights):\n",
        "    total_weight = sum(weights)\n",
        "\n",
        "    if total_weight % 2 != 0:\n",
        "        return False\n",
        "\n",
        "    target_weight = total_weight // 2\n",
        "    dp = [[False] * (target_weight + 1) for _ in range(N + 1)]\n",
        "\n",
        "    for i in range(N):\n",
        "        dp[i][0] = True\n",
        "\n",
        "    for i in range(1, N + 1):\n",
        "        for j in range(1, target_weight + 1):\n",
        "            if j < weights[i - 1]:\n",
        "                dp[i][j] = dp[i - 1][j]\n",
        "            else:\n",
        "                dp[i][j] = dp[i - 1][j] or dp[i - 1][j - weights[i - 1]]\n",
        "\n",
        "    print(dp[N][target_weight])"
      ],
      "metadata": {
        "id": "EOUlCRYcNH3q"
      },
      "execution_count": 15,
      "outputs": []
    },
    {
      "cell_type": "code",
      "source": [
        "N = int(input()) # N - кнатуральное число, не превышающее 100\n",
        "weights = [int(i) for i in input().split()] # веса\n",
        "task_2(N, weights)"
      ],
      "metadata": {
        "colab": {
          "base_uri": "https://localhost:8080/"
        },
        "id": "Xe-1xCISNKBO",
        "outputId": "51633ef6-dd8f-43d8-db67-8ecdc13b947e"
      },
      "execution_count": 18,
      "outputs": [
        {
          "output_type": "stream",
          "name": "stdout",
          "text": [
            "4\n",
            "4 2 8 6\n",
            "True\n"
          ]
        }
      ]
    },
    {
      "cell_type": "markdown",
      "source": [
        "**Задача 3**\n",
        "\n",
        "В некотором государстве в обращении находятся банкноты определенных номиналов. Национальный банк хочет, чтобы банкомат выдавал любую запрошенную сумму при помощи минимального числа банкнот, считая, что запас банкнот каждого номинала неограничен. Помогите национальному банку решить эту задачу.\n",
        "\n",
        "Входные данные:\n",
        "\n",
        "Первая строка входных данных содержит натуральное число N, не превосходящее 100 — количество номиналов банкнот в обращении. Вторая строка входных данных содержит N различных натуральных чисел x1, x2, ..., xN, не превосходящих 106 — номиналы банкнот. Третья строчка содержит натуральное число S, не превосходящее 106 — сумму, которую необходимо выдать.\n",
        "\n",
        "Выходные данные:\n",
        "\n",
        "Программа должна определить представление числа S как сумму элементов из множества xi таким образом, чтобы количество элементов в сумме было минимальным. Затем она должна отобразить это представление, выведя на экран последовательность элементов, разделенных пробелами. В случае наличия нескольких подходящих представлений, программа может вывести любое из них. Если же найти такое представление невозможно, программа должна сообщить об этом, выведя сообщение «No solution»."
      ],
      "metadata": {
        "id": "KcSGUVi9NHYE"
      }
    },
    {
      "cell_type": "code",
      "source": [
        "def task_3(N, denominations, S):\n",
        "    dp = [float('inf')] * (S + 1)\n",
        "    dp[0] = 0\n",
        "\n",
        "    for i in range(1, S + 1):\n",
        "        for denom in denominations:\n",
        "            if i - denom >= 0 and dp[i - denom] + 1 < dp[i]:\n",
        "                dp[i] = dp[i - denom] + 1\n",
        "\n",
        "    result = []\n",
        "    if dp[S] == float('inf'):\n",
        "        print(\"No solution\")\n",
        "\n",
        "    current_sum = S\n",
        "    while current_sum > 0:\n",
        "        for denom in denominations:\n",
        "            if current_sum - denom >= 0 and dp[current_sum - denom] + 1 == dp[current_sum]:\n",
        "                result.append(denom)\n",
        "                current_sum -= denom\n",
        "                break\n",
        "\n",
        "    print(result)"
      ],
      "metadata": {
        "id": "XXpQyiZeOlFy"
      },
      "execution_count": 19,
      "outputs": []
    },
    {
      "cell_type": "code",
      "source": [
        "N = int(input()) # N - натуральное число\n",
        "denominations = list(map(int, input().split())) # номиналы банкнот\n",
        "S = int(input()) # сумма к выдаче\n",
        "\n",
        "task_3(N, denominations, S)"
      ],
      "metadata": {
        "colab": {
          "base_uri": "https://localhost:8080/"
        },
        "id": "Lq5ncpWqO60a",
        "outputId": "d85b2c65-9b2f-490d-899f-7c23cf3a0980"
      },
      "execution_count": 20,
      "outputs": [
        {
          "output_type": "stream",
          "name": "stdout",
          "text": [
            "3\n",
            "1 3 5\n",
            "29\n",
            "[1, 3, 5, 5, 5, 5, 5]\n"
          ]
        }
      ]
    },
    {
      "cell_type": "markdown",
      "source": [
        "**Задача 4**\n",
        "\n",
        "Дано N предметов массой m1, …, mN. Ими наполняют рюкзак, который выдерживает вес не более M. Как набрать вес в точности M, используя как можно меньше предметов?\n",
        "\n",
        "Входные данные:\n",
        "\n",
        "Первая строка входных данных содержит натуральное число N, не превышающее 100, и натуральное число M, не превышающее 10000.\n",
        "\n",
        "Во второй строке находится N натуральных чисел mi, не превышающих 100.\n",
        "\n",
        "Выходные данные:\n",
        "\n",
        "Выведите наименьшее необходимое число предметов или 0, если набрать данный вес невозможно."
      ],
      "metadata": {
        "id": "HJ43GxOePha9"
      }
    },
    {
      "cell_type": "code",
      "source": [
        "def task_4(N, M, weights):\n",
        "    dp = [float('inf')] * (M + 1)\n",
        "    dp[0] = 0\n",
        "\n",
        "    for i in range(1, M + 1):\n",
        "        for weight in weights:\n",
        "            if i - weight >= 0:\n",
        "                dp[i] = min(dp[i], dp[i - weight] + 1)\n",
        "\n",
        "    if dp[M] == float('inf'):\n",
        "        print(0)\n",
        "    else:\n",
        "        print(dp[M])"
      ],
      "metadata": {
        "id": "wZsbOHtYPmCA"
      },
      "execution_count": 21,
      "outputs": []
    },
    {
      "cell_type": "code",
      "source": [
        "N, M = map(int, input().split()) # N - количество предметов, M - макс вес\n",
        "weights = list(map(int, input().split())) # веса\n",
        "\n",
        "task_4(N, M, weights)"
      ],
      "metadata": {
        "colab": {
          "base_uri": "https://localhost:8080/"
        },
        "id": "SklkAt49PoOl",
        "outputId": "6fa060f1-50a3-4ca2-84a8-765612ec7e6c"
      },
      "execution_count": 22,
      "outputs": [
        {
          "output_type": "stream",
          "name": "stdout",
          "text": [
            "5 11\n",
            "1 3 4 6 7\n",
            "2\n"
          ]
        }
      ]
    },
    {
      "cell_type": "markdown",
      "source": [
        "**Задача 5**\n",
        "\n",
        "Дана прямоугольная доска N × M (N строк и M столбцов). В левом верхнем углу находится шахматный конь, которого необходимо переместить в правый нижний угол доски. При этом конь может ходить только на две клетки вниз и на одну клетку вправо, либо на две клетки вправо и на одну клетку вниз (рисунок для случая 3х3).\n",
        "\n",
        "Необходимо определить, сколько существует различных маршрутов, ведущих из левого верхнего в правый нижний угол.\n",
        "\n",
        "Входные данные:\n",
        "\n",
        "В первой строке входного файла находится два натуральных числа N и M (1 ≤ N, M ≤ 50).\n",
        "\n",
        "Выходные данные:\n",
        "\n",
        "Вывести единственное число — количество способов добраться конем до правого нижнего угла доски."
      ],
      "metadata": {
        "id": "sMtecLobQAhA"
      }
    },
    {
      "cell_type": "code",
      "source": [
        "def task_5(N, M):\n",
        "    a = []\n",
        "    for i in range(N):\n",
        "        a.append([0] * M)\n",
        "    a[0][0] = 1\n",
        "    for i in range(1, N):\n",
        "        for j in range(1, M):\n",
        "            if i - 2 >= 0 and j - 1 >= 0:\n",
        "                a[i][j] += a[i - 2][j - 1]\n",
        "            if i - 1 >= 0 and j - 2 >= 0:\n",
        "                a[i][j] += a[i - 1][j - 2]\n",
        "    print(a[N - 1][M - 1])"
      ],
      "metadata": {
        "id": "5WiPD7S7QCa1"
      },
      "execution_count": 23,
      "outputs": []
    },
    {
      "cell_type": "code",
      "source": [
        "N, M = map(int, input().split()) # N - количество строк, M - количество столбцов\n",
        "task_5(N, M)"
      ],
      "metadata": {
        "colab": {
          "base_uri": "https://localhost:8080/"
        },
        "id": "9dUKi6f2QGFY",
        "outputId": "9f7bd0cb-673e-4bc3-d91d-5ec6d8c6590b"
      },
      "execution_count": 25,
      "outputs": [
        {
          "output_type": "stream",
          "name": "stdout",
          "text": [
            "3 2\n",
            "1\n"
          ]
        }
      ]
    }
  ]
}