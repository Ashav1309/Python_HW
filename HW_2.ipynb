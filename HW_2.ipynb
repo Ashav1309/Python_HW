{
  "cells": [
    {
      "cell_type": "markdown",
      "metadata": {
        "id": "qwGlnAxhSesc"
      },
      "source": [
        "# Практика №2. Алгоритмы сортировки"
      ]
    },
    {
      "cell_type": "markdown",
      "metadata": {
        "id": "e59zuC40_TrZ"
      },
      "source": [
        "## Необходимые импорты"
      ]
    },
    {
      "cell_type": "code",
      "execution_count": 2,
      "metadata": {
        "id": "yrVDAZByk_Ep"
      },
      "outputs": [],
      "source": [
        "import math\n",
        "import timeit\n",
        "import pandas as pd\n",
        "from random import randint\n",
        "from matplotlib import pyplot as plt"
      ]
    },
    {
      "cell_type": "markdown",
      "metadata": {
        "id": "U_Tgk6w6lCnu"
      },
      "source": [
        "## Функции сортировки"
      ]
    },
    {
      "cell_type": "markdown",
      "metadata": {
        "id": "ZfZvPMi9_Tri"
      },
      "source": [
        "### Пузырьковая сортировка"
      ]
    },
    {
      "cell_type": "code",
      "execution_count": 3,
      "metadata": {
        "id": "cb-nQ9Oj_Trj"
      },
      "outputs": [],
      "source": [
        "def bubble_sort(list_nums):\n",
        "    swap_bool = True\n",
        "    while swap_bool:\n",
        "        swap_bool = False\n",
        "        for i in range(len(list_nums) - 1):\n",
        "            if list_nums[i] > list_nums[i + 1]:\n",
        "                list_nums[i], list_nums[i + 1] = list_nums[i + 1], list_nums[i]\n",
        "                swap_bool = True\n",
        "    return list_nums"
      ]
    },
    {
      "cell_type": "markdown",
      "metadata": {
        "id": "LWp7VEed_Trn"
      },
      "source": [
        "### Шейкерная сортировка"
      ]
    },
    {
      "cell_type": "code",
      "execution_count": 4,
      "metadata": {
        "id": "cF2SWrq8_Trn"
      },
      "outputs": [],
      "source": [
        "def shaker_sort(list_nums):\n",
        "    left = 0\n",
        "    right = len(list_nums) - 1\n",
        "    while left <= right:\n",
        "        for i in range(left, right, +1):\n",
        "            if list_nums[i] > list_nums[i + 1]:\n",
        "                list_nums[i], list_nums[i + 1] = list_nums[i + 1], list_nums[i]\n",
        "        right -= 1\n",
        "        for i in range(right, left, -1):\n",
        "            if list_nums[i - 1] > list_nums[i]:\n",
        "                list_nums[i], list_nums[i - 1] = list_nums[i - 1], list_nums[i]\n",
        "        left += 1\n",
        "    return list_nums"
      ]
    },
    {
      "cell_type": "markdown",
      "metadata": {
        "id": "Tm57cQJX_Tro"
      },
      "source": [
        "### Сортировка вставками"
      ]
    },
    {
      "cell_type": "code",
      "execution_count": 5,
      "metadata": {
        "id": "fm-1Sfah_Tro"
      },
      "outputs": [],
      "source": [
        "def insertion_sort(list_nums):\n",
        "    for i in range(len(list_nums)):\n",
        "        cursor = list_nums[i]\n",
        "        pos = i\n",
        "        while pos > 0 and list_nums[pos - 1] > cursor:\n",
        "            list_nums[pos] = list_nums[pos - 1]\n",
        "            pos = pos - 1\n",
        "        list_nums[pos] = cursor\n",
        "    return list_nums"
      ]
    },
    {
      "cell_type": "markdown",
      "metadata": {
        "id": "YB2MDzWj_Trp"
      },
      "source": [
        "### Гномья сортировка"
      ]
    },
    {
      "cell_type": "code",
      "execution_count": 6,
      "metadata": {
        "id": "Pj0wlwXD_Trq"
      },
      "outputs": [],
      "source": [
        "def gnome_sort(list_nums):\n",
        "    i, size = 1, len(list_nums)\n",
        "    while i < size:\n",
        "        if list_nums[i - 1] <= list_nums[i]:\n",
        "            i += 1\n",
        "        else:\n",
        "            list_nums[i - 1], list_nums[i] = list_nums[i], list_nums[i - 1]\n",
        "            if i > 1:\n",
        "                i -= 1\n",
        "    return list_nums"
      ]
    },
    {
      "cell_type": "markdown",
      "metadata": {
        "id": "z1qGiph1_Trq"
      },
      "source": [
        "### Гномья сортировка (оптимизированная)"
      ]
    },
    {
      "cell_type": "code",
      "execution_count": 7,
      "metadata": {
        "id": "0IRzN2Vh_Trq"
      },
      "outputs": [],
      "source": [
        "def gnome_opt_sort(list_nums):\n",
        "    i, j, size = 1, 2, len(list_nums)\n",
        "    while i < size:\n",
        "        if list_nums[i - 1] <= list_nums[i]:\n",
        "            i, j = j, j + 1\n",
        "        else:\n",
        "            list_nums[i - 1], list_nums[i] = list_nums[i], list_nums[i - 1]\n",
        "            i -= 1\n",
        "            if i == 0:\n",
        "                i, j = j, j + 1\n",
        "    return list_nums"
      ]
    },
    {
      "cell_type": "markdown",
      "metadata": {
        "id": "6cQXOx3-_Trr"
      },
      "source": [
        "### Сортировка слиянием"
      ]
    },
    {
      "cell_type": "code",
      "execution_count": 8,
      "metadata": {
        "id": "qHJ3V4KV_Trr"
      },
      "outputs": [],
      "source": [
        "def merge_sort(list_nums):\n",
        "    if len(list_nums) < 2:\n",
        "        return list_nums\n",
        "    mid = len(list_nums) // 2\n",
        "    left, right = merge_sort(list_nums[:mid]), merge_sort(list_nums[mid:])\n",
        "\n",
        "    return merge(left, right, list_nums.copy())\n",
        "\n",
        "\n",
        "def merge(left, right, result_list):\n",
        "    left_cursor, right_cursor = 0, 0\n",
        "    while left_cursor < len(left) and right_cursor < len(right):\n",
        "        if left[left_cursor] <= right[right_cursor]:\n",
        "            result_list[left_cursor + right_cursor] = left[left_cursor]\n",
        "            left_cursor += 1\n",
        "        else:\n",
        "            result_list[left_cursor + right_cursor] = right[right_cursor]\n",
        "            right_cursor += 1\n",
        "\n",
        "    for left_cursor in range(left_cursor, len(left)):\n",
        "        result_list[left_cursor + right_cursor] = left[left_cursor]\n",
        "\n",
        "    for right_cursor in range(right_cursor, len(right)):\n",
        "        result_list[left_cursor + right_cursor] = right[right_cursor]\n",
        "\n",
        "    return result_list"
      ]
    },
    {
      "cell_type": "markdown",
      "metadata": {
        "id": "tZUzvfeF_Trs"
      },
      "source": [
        "### Сортировка с помощью двоичного дерева"
      ]
    },
    {
      "cell_type": "code",
      "execution_count": 9,
      "metadata": {
        "id": "amfHT9ph_Trs"
      },
      "outputs": [],
      "source": [
        "class Node:\n",
        "    def __init__(self, val):\n",
        "        self.val = val\n",
        "        self.left = None\n",
        "        self.right = None\n",
        "\n",
        "    def insert(self, val):\n",
        "        if self.val:\n",
        "            if val < self.val:\n",
        "                if self.left is None:\n",
        "                    self.left = Node(val)\n",
        "                else:\n",
        "                    self.left.insert(val)\n",
        "            elif val > self.val:\n",
        "                if self.right is None:\n",
        "                    self.right = Node(val)\n",
        "                else:\n",
        "                    self.right.insert(val)\n",
        "        else:\n",
        "            self.val = val\n",
        "\n",
        "\n",
        "def inorder(root, res):\n",
        "    if root:\n",
        "        inorder(root.left, res)\n",
        "        res.append(root.val)\n",
        "        inorder(root.right, res)\n",
        "\n",
        "\n",
        "def tree_sort(list_nums):\n",
        "    if len(list_nums) == 0:\n",
        "        return list_nums\n",
        "    root = Node(list_nums[0])\n",
        "    for i in range(1, len(list_nums)):\n",
        "        root.insert(list_nums[i])\n",
        "    res = []\n",
        "    inorder(root, res)\n",
        "    return res"
      ]
    },
    {
      "cell_type": "markdown",
      "metadata": {
        "id": "FlojDyBo_Trs"
      },
      "source": [
        "### Timsort"
      ]
    },
    {
      "cell_type": "code",
      "execution_count": 10,
      "metadata": {
        "id": "WqsDVUIo_Trs"
      },
      "outputs": [],
      "source": [
        "minimum = 32\n",
        "\n",
        "\n",
        "def find_minrun(n):\n",
        "    r = 0\n",
        "    while n >= minimum:\n",
        "        r |= n & 1\n",
        "        n >>= 1\n",
        "    return n + r\n",
        "\n",
        "\n",
        "def insertion_sort_tim(array, left, right):\n",
        "    for i in range(left + 1, right + 1):\n",
        "        element = array[i]\n",
        "        j = i - 1\n",
        "        while element < array[j] and j >= left:\n",
        "            array[j + 1] = array[j]\n",
        "            j -= 1\n",
        "        array[j + 1] = element\n",
        "    return array\n",
        "\n",
        "\n",
        "def merge_tim(array, p, m, r):\n",
        "    array_length1 = m - p + 1\n",
        "    array_length2 = r - m\n",
        "    left = []\n",
        "    right = []\n",
        "    for i in range(0, array_length1):\n",
        "        left.append(array[p + i])\n",
        "    for i in range(0, array_length2):\n",
        "        right.append(array[m + 1 + i])\n",
        "    i = 0\n",
        "    j = 0\n",
        "    k = p\n",
        "    while j < array_length2 and i < array_length1:\n",
        "        if left[i] <= right[j]:\n",
        "            array[k] = left[i]\n",
        "            i += 1\n",
        "        else:\n",
        "            array[k] = right[j]\n",
        "            j += 1\n",
        "        k += 1\n",
        "    while i < array_length1:\n",
        "        array[k] = left[i]\n",
        "        k += 1\n",
        "        i += 1\n",
        "    while j < array_length2:\n",
        "        array[k] = right[j]\n",
        "        k += 1\n",
        "        j += 1\n",
        "\n",
        "\n",
        "def tim_sort(array):\n",
        "    n = len(array)\n",
        "    minrun = find_minrun(n)\n",
        "    for start in range(0, n, minrun):\n",
        "        end = min(start + minrun - 1, n - 1)\n",
        "        insertion_sort_tim(array, start, end)\n",
        "    size = minrun\n",
        "    while size < n:\n",
        "        for left in range(0, n, 2 * size):\n",
        "            mid = min(n - 1, left + size - 1)\n",
        "            right = min((left + 2 * size - 1), (n - 1))\n",
        "            merge_tim(array, left, mid, right)\n",
        "        size = 2 * size"
      ]
    },
    {
      "cell_type": "markdown",
      "metadata": {
        "id": "ShdHnLZq_Trt"
      },
      "source": [
        "### Сортировка выбором"
      ]
    },
    {
      "cell_type": "code",
      "execution_count": 11,
      "metadata": {
        "id": "lwEJGKz4_Trt"
      },
      "outputs": [],
      "source": [
        "def selection_sort(list_nums):\n",
        "    for i, e in enumerate(list_nums):\n",
        "        mn = min(range(i, len(list_nums)), key=list_nums.__getitem__)\n",
        "        list_nums[i], list_nums[mn] = list_nums[mn], e\n",
        "    return list_nums"
      ]
    },
    {
      "cell_type": "markdown",
      "metadata": {
        "id": "6MLoms4K_Trt"
      },
      "source": [
        "### Сортировка расчёской"
      ]
    },
    {
      "cell_type": "code",
      "execution_count": 12,
      "metadata": {
        "id": "_I5i3Ch0_Tru"
      },
      "outputs": [],
      "source": [
        "def comb_sort(list_nums):\n",
        "    gap = len(list_nums)\n",
        "    swaps = True\n",
        "    while gap > 1 or swaps:\n",
        "        gap = max(1, int(gap / 1.25))  # minimum gap is 1\n",
        "        swaps = False\n",
        "        for i in range(len(list_nums) - gap):\n",
        "            j = i + gap\n",
        "            if list_nums[i] > list_nums[j]:\n",
        "                list_nums[i], list_nums[j] = list_nums[j], list_nums[i]\n",
        "                swaps = True\n",
        "    return list_nums"
      ]
    },
    {
      "cell_type": "markdown",
      "metadata": {
        "id": "lNsjuSEV_Tru"
      },
      "source": [
        "### Сортировка Шелла"
      ]
    },
    {
      "cell_type": "code",
      "execution_count": 13,
      "metadata": {
        "id": "sONxu8QU_Tru"
      },
      "outputs": [],
      "source": [
        "def shell_sort(list_nums):\n",
        "    inc = len(list_nums) // 2\n",
        "    while inc:\n",
        "        for i, el in enumerate(list_nums):\n",
        "            while i >= inc and list_nums[i - inc] > el:\n",
        "                list_nums[i] = list_nums[i - inc]\n",
        "                i -= inc\n",
        "            list_nums[i] = el\n",
        "        inc = 1 if inc == 2 else int(inc * 5.0 / 11)\n",
        "    return list_nums"
      ]
    },
    {
      "cell_type": "markdown",
      "metadata": {
        "id": "wqKUAtyR_Tru"
      },
      "source": [
        "### Пирамидальная сортировка"
      ]
    },
    {
      "cell_type": "code",
      "execution_count": 14,
      "metadata": {
        "id": "MKMb8_4g_Trv"
      },
      "outputs": [],
      "source": [
        "def heapify(arr, n, i):\n",
        "    largest = i\n",
        "    l = 2 * i + 1\n",
        "    r = 2 * i + 2\n",
        "    if l < n and arr[largest] < arr[l]:\n",
        "        largest = l\n",
        "    if r < n and arr[largest] < arr[r]:\n",
        "        largest = r\n",
        "    if largest != i:\n",
        "        arr[i], arr[largest] = arr[largest], arr[i]\n",
        "        heapify(arr, n, largest)\n",
        "\n",
        "\n",
        "def heap_sort(arr):\n",
        "    n = len(arr)\n",
        "    for i in range(n // 2 - 1, -1, -1):\n",
        "        heapify(arr, n, i)\n",
        "    for i in range(n - 1, 0, -1):\n",
        "        arr[i], arr[0] = arr[0], arr[i]\n",
        "        heapify(arr, i, 0)"
      ]
    },
    {
      "cell_type": "markdown",
      "metadata": {
        "id": "TnTPVjg7_Trv"
      },
      "source": [
        "### Плавная сортировка"
      ]
    },
    {
      "cell_type": "code",
      "execution_count": 15,
      "metadata": {
        "id": "uImF0raZ_Trv"
      },
      "outputs": [],
      "source": [
        "def smooth_sort(lst):\n",
        "    leo_nums = leonardo_numbers(len(lst))\n",
        "    heap = []\n",
        "    for i in range(len(lst)):\n",
        "        if len(heap) >= 2 and heap[-2] == heap[-1] + 1:\n",
        "            heap.pop()\n",
        "            heap[-1] += 1\n",
        "        else:\n",
        "            if len(heap) >= 1 and heap[-1] == 1:\n",
        "                heap.append(0)\n",
        "            else:\n",
        "                heap.append(1)\n",
        "        restore_heap(lst, i, heap, leo_nums)\n",
        "    for i in reversed(range(len(lst))):\n",
        "        if heap[-1] < 2:\n",
        "            heap.pop()\n",
        "        else:\n",
        "            k = heap.pop()\n",
        "            t_r, k_r, t_l, k_l = get_child_trees(i, k, leo_nums)\n",
        "            heap.append(k_l)\n",
        "            restore_heap(lst, t_l, heap, leo_nums)\n",
        "            heap.append(k_r)\n",
        "            restore_heap(lst, t_r, heap, leo_nums)\n",
        "\n",
        "\n",
        "def leonardo_numbers(hi):\n",
        "    a, b = 1, 1\n",
        "    numbers = []\n",
        "    while a <= hi:\n",
        "        numbers.append(a)\n",
        "        a, b = b, a + b + 1\n",
        "    return numbers\n",
        "\n",
        "\n",
        "def restore_heap(lst, i, heap, leo_nums):\n",
        "    current = len(heap) - 1\n",
        "    k = heap[current]\n",
        "    while current > 0:\n",
        "        j = i - leo_nums[k]\n",
        "        if (lst[j] > lst[i] and\n",
        "                (k < 2 or lst[j] > lst[i - 1] and lst[j] > lst[i - 2])):\n",
        "            lst[i], lst[j] = lst[j], lst[i]\n",
        "            i = j\n",
        "            current -= 1\n",
        "            k = heap[current]\n",
        "        else:\n",
        "            break\n",
        "    while k >= 2:\n",
        "        t_r, k_r, t_l, k_l = get_child_trees(i, k, leo_nums)\n",
        "        if lst[i] < lst[t_r] or lst[i] < lst[t_l]:\n",
        "            if lst[t_r] > lst[t_l]:\n",
        "                lst[i], lst[t_r] = lst[t_r], lst[i]\n",
        "                i, k = t_r, k_r\n",
        "            else:\n",
        "                lst[i], lst[t_l] = lst[t_l], lst[i]\n",
        "                i, k = t_l, k_l\n",
        "        else:\n",
        "            break\n",
        "\n",
        "\n",
        "def get_child_trees(i, k, leo_nums):\n",
        "    t_r, k_r = i - 1, k - 2\n",
        "    t_l, k_l = t_r - leo_nums[k_r], k - 1\n",
        "    return t_r, k_r, t_l, k_l"
      ]
    },
    {
      "cell_type": "markdown",
      "metadata": {
        "id": "WKwdkWzf_Trv"
      },
      "source": [
        "### Быстрая сортировка"
      ]
    },
    {
      "cell_type": "code",
      "execution_count": 16,
      "metadata": {
        "id": "5XFzj_m2_Trw"
      },
      "outputs": [],
      "source": [
        "def quick_sort(list_nums):\n",
        "    less = []\n",
        "    pivot_list = []\n",
        "    more = []\n",
        "    if len(list_nums) <= 1:\n",
        "        return list_nums\n",
        "    else:\n",
        "        pivot = list_nums[0]\n",
        "        for i in list_nums:\n",
        "            if i < pivot:\n",
        "                less.append(i)\n",
        "            elif i > pivot:\n",
        "                more.append(i)\n",
        "            else:\n",
        "                pivot_list.append(i)\n",
        "        less = quick_sort(less)\n",
        "        more = quick_sort(more)\n",
        "        return less + pivot_list + more"
      ]
    },
    {
      "cell_type": "markdown",
      "metadata": {
        "id": "JB3K164a_Trw"
      },
      "source": [
        "### Интроспективная сортировка"
      ]
    },
    {
      "cell_type": "code",
      "execution_count": 17,
      "metadata": {
        "id": "VBuaSyol_Trw"
      },
      "outputs": [],
      "source": [
        "def partition(arr, low, high):\n",
        "    pivot = arr[high]\n",
        "    i = low - 1\n",
        "    for j in range(low, high):\n",
        "        if arr[j] <= pivot:\n",
        "            i += 1\n",
        "            arr[i], arr[j] = arr[j], arr[i]\n",
        "    arr[i + 1], arr[high] = arr[high], arr[i + 1]\n",
        "    return i + 1\n",
        "\n",
        "\n",
        "def insertion_sort_intro(arr, low, high):\n",
        "    for i in range(low + 1, high + 1):\n",
        "        key = arr[i]\n",
        "        j = i - 1\n",
        "        while j >= low and arr[j] > key:\n",
        "            arr[j + 1] = arr[j]\n",
        "            j -= 1\n",
        "        arr[j + 1] = key\n",
        "\n",
        "\n",
        "def heap_sort(arr):\n",
        "    n = len(arr)\n",
        "    for i in range(n // 2 - 1, -1, -1):\n",
        "        heapify(arr, n, i)\n",
        "    for i in range(n - 1, 0, -1):\n",
        "        arr[i], arr[0] = arr[0], arr[i]\n",
        "        heapify(arr, i, 0)\n",
        "\n",
        "\n",
        "def heapify(arr, n, i):\n",
        "    largest = i\n",
        "    left = 2 * i + 1\n",
        "    right = 2 * i + 2\n",
        "    if left < n and arr[left] > arr[largest]:\n",
        "        largest = left\n",
        "    if right < n and arr[right] > arr[largest]:\n",
        "        largest = right\n",
        "    if largest != i:\n",
        "        arr[i], arr[largest] = arr[largest], arr[i]\n",
        "        heapify(arr, n, largest)\n",
        "\n",
        "\n",
        "def intro_sort(arr, depth_limit=None):\n",
        "    if depth_limit is None:\n",
        "        depth_limit = 2 * math.log(len(arr))\n",
        "    if len(arr) <= 1:\n",
        "        return\n",
        "    if depth_limit == 0:\n",
        "        heap_sort(arr)\n",
        "        return\n",
        "    pivot = partition(arr, 0, len(arr) - 1)\n",
        "    intro_sort(arr[:pivot], depth_limit - 1)\n",
        "    intro_sort(arr[pivot + 1:], depth_limit - 1)\n",
        "\n",
        "\n",
        "def sort(arr):\n",
        "    intro_sort(arr)\n",
        "    insertion_sort_intro(arr, 0, len(arr) - 1)"
      ]
    },
    {
      "cell_type": "markdown",
      "metadata": {
        "id": "c6s-T9CX_Trw"
      },
      "source": [
        "## Практическая работа"
      ]
    },
    {
      "cell_type": "markdown",
      "metadata": {
        "id": "RhRIDXvL_Trx"
      },
      "source": [
        "Выполняя описанные действия с использованием рассмотренных алгоритмов сортировки, которые представлены в виде функций, необходимо оценить их эффективность на различных типах входных данных.\n",
        "\n",
        "Для того чтобы провести тестирование, каждый алгоритм должен быть представлен в виде случайно сгенерированного и частично отсортированного списка.\n",
        "\n",
        "Для того, чтобы сделать выводы о применимости алгоритмов, необходимо провести оценку их эффективности.\n",
        "Вы можете использовать сгенерированные списки случайных чисел в качестве входных данных.\n",
        "\n",
        "С помощью библиотеки timeit можно определить время исполнения."
      ]
    },
    {
      "cell_type": "markdown",
      "metadata": {
        "id": "iBtf8YJZ_Trx"
      },
      "source": [
        "### Генерация списков"
      ]
    },
    {
      "cell_type": "code",
      "execution_count": 36,
      "metadata": {
        "id": "AYVw4YQE_Trx"
      },
      "outputs": [],
      "source": [
        "# Генерация списков случайных чисел на 1000, 10 000 и 100 000 элементов\n",
        "source_list1000 = [randint(-1000000, 1000000) for i in range(1000)]\n",
        "source_list10000 = [randint(-1000000, 1000000) for i in range(10000)]\n",
        "source_list25000 = [randint(-1000000, 1000000) for i in range(25000)]"
      ]
    },
    {
      "cell_type": "markdown",
      "metadata": {
        "id": "IndOCbDEmVax"
      },
      "source": [
        "### Функция измерения времени выполнения сортировки"
      ]
    },
    {
      "cell_type": "code",
      "execution_count": 19,
      "metadata": {
        "id": "vKLFIYWcmcFB"
      },
      "outputs": [],
      "source": [
        "# Эта функция предназначена для измерения времени, необходимого для выполнения сортировки.\n",
        "def measure_sort(type_sort, my_seq, n_repeat):\n",
        "    setup_code = \"\"\"\n",
        "from __main__ import {type_sort}\n",
        "my_seq = {seq}\n",
        "\"\"\".format(type_sort=type_sort, seq=my_seq)\n",
        "\n",
        "    stmt = \"\"\"\n",
        "{type_sort}(my_seq)\n",
        "\"\"\".format(type_sort=type_sort)\n",
        "    # Выполнение кода `n_repeat` раз и возвращение списка времен\n",
        "    times = timeit.repeat(setup=setup_code, stmt=stmt, repeat=n_repeat, number=1)\n",
        "\n",
        "    return (min(times), sum(times) / len(times), max(times))"
      ]
    },
    {
      "cell_type": "markdown",
      "metadata": {
        "id": "7fY3tib-nCLi"
      },
      "source": [
        "### Задание количество проходов"
      ]
    },
    {
      "cell_type": "code",
      "execution_count": 26,
      "metadata": {
        "id": "4NSBy0PUnJXR"
      },
      "outputs": [],
      "source": [
        "# количество запусков\n",
        "n_repeat = 1\n",
        "\n",
        "list_sort = ['bubble_sort', 'shaker_sort', 'insertion_sort',\n",
        "             'gnome_sort', 'gnome_opt_sort', 'merge_sort',\n",
        "             'tree_sort', 'tim_sort', 'selection_sort',\n",
        "             'comb_sort', 'shell_sort', 'heap_sort',\n",
        "             'smooth_sort', 'quick_sort', 'sort']"
      ]
    },
    {
      "cell_type": "markdown",
      "metadata": {
        "id": "AwwCvKiQqa9D"
      },
      "source": [
        "### Время сортировки для случайно сгенерированного списка в 1000 элементов"
      ]
    },
    {
      "cell_type": "code",
      "execution_count": 27,
      "metadata": {
        "id": "T6AHgzfrtFch"
      },
      "outputs": [],
      "source": [
        "dict_times_random = dict()\n",
        "\n",
        "for type_of_search in list_sort:\n",
        "    dict_times_random[type_of_search] = dict()\n",
        "    time_sort = measure_sort(type_of_search, source_list1000, n_repeat)\n",
        "    dict_times_random[type_of_search]['min_random, msec'] = time_sort[0] * 1000\n",
        "    dict_times_random[type_of_search]['average_random, msec'] = time_sort[1] * 1000\n",
        "    dict_times_random[type_of_search]['max_random, msec'] = time_sort[2] * 1000"
      ]
    },
    {
      "cell_type": "code",
      "execution_count": 28,
      "metadata": {
        "colab": {
          "base_uri": "https://localhost:8080/",
          "height": 514
        },
        "id": "5hfFwVeFx5rn",
        "outputId": "4a557f7b-aea5-4e63-f06e-13a95ae98a18"
      },
      "outputs": [
        {
          "output_type": "execute_result",
          "data": {
            "text/plain": [
              "                min_random, msec  average_random, msec  max_random, msec\n",
              "bubble_sort           158.641764            158.641764        158.641764\n",
              "shaker_sort            95.282519             95.282519         95.282519\n",
              "insertion_sort         45.541239             45.541239         45.541239\n",
              "gnome_sort            134.378583            134.378583        134.378583\n",
              "gnome_opt_sort         75.026752             75.026752         75.026752\n",
              "merge_sort              3.573117              3.573117          3.573117\n",
              "tree_sort               3.391356              3.391356          3.391356\n",
              "tim_sort                3.332544              3.332544          3.332544\n",
              "selection_sort         24.406172             24.406172         24.406172\n",
              "comb_sort               3.213785              3.213785          3.213785\n",
              "shell_sort              2.721509              2.721509          2.721509\n",
              "heap_sort               4.772726              4.772726          4.772726\n",
              "smooth_sort             8.337960              8.337960          8.337960\n",
              "quick_sort              1.858804              1.858804          1.858804\n",
              "sort                   49.529309             49.529309         49.529309"
            ],
            "text/html": [
              "\n",
              "  <div id=\"df-f141d217-186e-40ff-9e56-021c61b890c7\" class=\"colab-df-container\">\n",
              "    <div>\n",
              "<style scoped>\n",
              "    .dataframe tbody tr th:only-of-type {\n",
              "        vertical-align: middle;\n",
              "    }\n",
              "\n",
              "    .dataframe tbody tr th {\n",
              "        vertical-align: top;\n",
              "    }\n",
              "\n",
              "    .dataframe thead th {\n",
              "        text-align: right;\n",
              "    }\n",
              "</style>\n",
              "<table border=\"1\" class=\"dataframe\">\n",
              "  <thead>\n",
              "    <tr style=\"text-align: right;\">\n",
              "      <th></th>\n",
              "      <th>min_random, msec</th>\n",
              "      <th>average_random, msec</th>\n",
              "      <th>max_random, msec</th>\n",
              "    </tr>\n",
              "  </thead>\n",
              "  <tbody>\n",
              "    <tr>\n",
              "      <th>bubble_sort</th>\n",
              "      <td>158.641764</td>\n",
              "      <td>158.641764</td>\n",
              "      <td>158.641764</td>\n",
              "    </tr>\n",
              "    <tr>\n",
              "      <th>shaker_sort</th>\n",
              "      <td>95.282519</td>\n",
              "      <td>95.282519</td>\n",
              "      <td>95.282519</td>\n",
              "    </tr>\n",
              "    <tr>\n",
              "      <th>insertion_sort</th>\n",
              "      <td>45.541239</td>\n",
              "      <td>45.541239</td>\n",
              "      <td>45.541239</td>\n",
              "    </tr>\n",
              "    <tr>\n",
              "      <th>gnome_sort</th>\n",
              "      <td>134.378583</td>\n",
              "      <td>134.378583</td>\n",
              "      <td>134.378583</td>\n",
              "    </tr>\n",
              "    <tr>\n",
              "      <th>gnome_opt_sort</th>\n",
              "      <td>75.026752</td>\n",
              "      <td>75.026752</td>\n",
              "      <td>75.026752</td>\n",
              "    </tr>\n",
              "    <tr>\n",
              "      <th>merge_sort</th>\n",
              "      <td>3.573117</td>\n",
              "      <td>3.573117</td>\n",
              "      <td>3.573117</td>\n",
              "    </tr>\n",
              "    <tr>\n",
              "      <th>tree_sort</th>\n",
              "      <td>3.391356</td>\n",
              "      <td>3.391356</td>\n",
              "      <td>3.391356</td>\n",
              "    </tr>\n",
              "    <tr>\n",
              "      <th>tim_sort</th>\n",
              "      <td>3.332544</td>\n",
              "      <td>3.332544</td>\n",
              "      <td>3.332544</td>\n",
              "    </tr>\n",
              "    <tr>\n",
              "      <th>selection_sort</th>\n",
              "      <td>24.406172</td>\n",
              "      <td>24.406172</td>\n",
              "      <td>24.406172</td>\n",
              "    </tr>\n",
              "    <tr>\n",
              "      <th>comb_sort</th>\n",
              "      <td>3.213785</td>\n",
              "      <td>3.213785</td>\n",
              "      <td>3.213785</td>\n",
              "    </tr>\n",
              "    <tr>\n",
              "      <th>shell_sort</th>\n",
              "      <td>2.721509</td>\n",
              "      <td>2.721509</td>\n",
              "      <td>2.721509</td>\n",
              "    </tr>\n",
              "    <tr>\n",
              "      <th>heap_sort</th>\n",
              "      <td>4.772726</td>\n",
              "      <td>4.772726</td>\n",
              "      <td>4.772726</td>\n",
              "    </tr>\n",
              "    <tr>\n",
              "      <th>smooth_sort</th>\n",
              "      <td>8.337960</td>\n",
              "      <td>8.337960</td>\n",
              "      <td>8.337960</td>\n",
              "    </tr>\n",
              "    <tr>\n",
              "      <th>quick_sort</th>\n",
              "      <td>1.858804</td>\n",
              "      <td>1.858804</td>\n",
              "      <td>1.858804</td>\n",
              "    </tr>\n",
              "    <tr>\n",
              "      <th>sort</th>\n",
              "      <td>49.529309</td>\n",
              "      <td>49.529309</td>\n",
              "      <td>49.529309</td>\n",
              "    </tr>\n",
              "  </tbody>\n",
              "</table>\n",
              "</div>\n",
              "    <div class=\"colab-df-buttons\">\n",
              "\n",
              "  <div class=\"colab-df-container\">\n",
              "    <button class=\"colab-df-convert\" onclick=\"convertToInteractive('df-f141d217-186e-40ff-9e56-021c61b890c7')\"\n",
              "            title=\"Convert this dataframe to an interactive table.\"\n",
              "            style=\"display:none;\">\n",
              "\n",
              "  <svg xmlns=\"http://www.w3.org/2000/svg\" height=\"24px\" viewBox=\"0 -960 960 960\">\n",
              "    <path d=\"M120-120v-720h720v720H120Zm60-500h600v-160H180v160Zm220 220h160v-160H400v160Zm0 220h160v-160H400v160ZM180-400h160v-160H180v160Zm440 0h160v-160H620v160ZM180-180h160v-160H180v160Zm440 0h160v-160H620v160Z\"/>\n",
              "  </svg>\n",
              "    </button>\n",
              "\n",
              "  <style>\n",
              "    .colab-df-container {\n",
              "      display:flex;\n",
              "      gap: 12px;\n",
              "    }\n",
              "\n",
              "    .colab-df-convert {\n",
              "      background-color: #E8F0FE;\n",
              "      border: none;\n",
              "      border-radius: 50%;\n",
              "      cursor: pointer;\n",
              "      display: none;\n",
              "      fill: #1967D2;\n",
              "      height: 32px;\n",
              "      padding: 0 0 0 0;\n",
              "      width: 32px;\n",
              "    }\n",
              "\n",
              "    .colab-df-convert:hover {\n",
              "      background-color: #E2EBFA;\n",
              "      box-shadow: 0px 1px 2px rgba(60, 64, 67, 0.3), 0px 1px 3px 1px rgba(60, 64, 67, 0.15);\n",
              "      fill: #174EA6;\n",
              "    }\n",
              "\n",
              "    .colab-df-buttons div {\n",
              "      margin-bottom: 4px;\n",
              "    }\n",
              "\n",
              "    [theme=dark] .colab-df-convert {\n",
              "      background-color: #3B4455;\n",
              "      fill: #D2E3FC;\n",
              "    }\n",
              "\n",
              "    [theme=dark] .colab-df-convert:hover {\n",
              "      background-color: #434B5C;\n",
              "      box-shadow: 0px 1px 3px 1px rgba(0, 0, 0, 0.15);\n",
              "      filter: drop-shadow(0px 1px 2px rgba(0, 0, 0, 0.3));\n",
              "      fill: #FFFFFF;\n",
              "    }\n",
              "  </style>\n",
              "\n",
              "    <script>\n",
              "      const buttonEl =\n",
              "        document.querySelector('#df-f141d217-186e-40ff-9e56-021c61b890c7 button.colab-df-convert');\n",
              "      buttonEl.style.display =\n",
              "        google.colab.kernel.accessAllowed ? 'block' : 'none';\n",
              "\n",
              "      async function convertToInteractive(key) {\n",
              "        const element = document.querySelector('#df-f141d217-186e-40ff-9e56-021c61b890c7');\n",
              "        const dataTable =\n",
              "          await google.colab.kernel.invokeFunction('convertToInteractive',\n",
              "                                                    [key], {});\n",
              "        if (!dataTable) return;\n",
              "\n",
              "        const docLinkHtml = 'Like what you see? Visit the ' +\n",
              "          '<a target=\"_blank\" href=https://colab.research.google.com/notebooks/data_table.ipynb>data table notebook</a>'\n",
              "          + ' to learn more about interactive tables.';\n",
              "        element.innerHTML = '';\n",
              "        dataTable['output_type'] = 'display_data';\n",
              "        await google.colab.output.renderOutput(dataTable, element);\n",
              "        const docLink = document.createElement('div');\n",
              "        docLink.innerHTML = docLinkHtml;\n",
              "        element.appendChild(docLink);\n",
              "      }\n",
              "    </script>\n",
              "  </div>\n",
              "\n",
              "\n",
              "<div id=\"df-cc5a9bc2-36a5-482f-9f2c-994873e89950\">\n",
              "  <button class=\"colab-df-quickchart\" onclick=\"quickchart('df-cc5a9bc2-36a5-482f-9f2c-994873e89950')\"\n",
              "            title=\"Suggest charts\"\n",
              "            style=\"display:none;\">\n",
              "\n",
              "<svg xmlns=\"http://www.w3.org/2000/svg\" height=\"24px\"viewBox=\"0 0 24 24\"\n",
              "     width=\"24px\">\n",
              "    <g>\n",
              "        <path d=\"M19 3H5c-1.1 0-2 .9-2 2v14c0 1.1.9 2 2 2h14c1.1 0 2-.9 2-2V5c0-1.1-.9-2-2-2zM9 17H7v-7h2v7zm4 0h-2V7h2v10zm4 0h-2v-4h2v4z\"/>\n",
              "    </g>\n",
              "</svg>\n",
              "  </button>\n",
              "\n",
              "<style>\n",
              "  .colab-df-quickchart {\n",
              "      --bg-color: #E8F0FE;\n",
              "      --fill-color: #1967D2;\n",
              "      --hover-bg-color: #E2EBFA;\n",
              "      --hover-fill-color: #174EA6;\n",
              "      --disabled-fill-color: #AAA;\n",
              "      --disabled-bg-color: #DDD;\n",
              "  }\n",
              "\n",
              "  [theme=dark] .colab-df-quickchart {\n",
              "      --bg-color: #3B4455;\n",
              "      --fill-color: #D2E3FC;\n",
              "      --hover-bg-color: #434B5C;\n",
              "      --hover-fill-color: #FFFFFF;\n",
              "      --disabled-bg-color: #3B4455;\n",
              "      --disabled-fill-color: #666;\n",
              "  }\n",
              "\n",
              "  .colab-df-quickchart {\n",
              "    background-color: var(--bg-color);\n",
              "    border: none;\n",
              "    border-radius: 50%;\n",
              "    cursor: pointer;\n",
              "    display: none;\n",
              "    fill: var(--fill-color);\n",
              "    height: 32px;\n",
              "    padding: 0;\n",
              "    width: 32px;\n",
              "  }\n",
              "\n",
              "  .colab-df-quickchart:hover {\n",
              "    background-color: var(--hover-bg-color);\n",
              "    box-shadow: 0 1px 2px rgba(60, 64, 67, 0.3), 0 1px 3px 1px rgba(60, 64, 67, 0.15);\n",
              "    fill: var(--button-hover-fill-color);\n",
              "  }\n",
              "\n",
              "  .colab-df-quickchart-complete:disabled,\n",
              "  .colab-df-quickchart-complete:disabled:hover {\n",
              "    background-color: var(--disabled-bg-color);\n",
              "    fill: var(--disabled-fill-color);\n",
              "    box-shadow: none;\n",
              "  }\n",
              "\n",
              "  .colab-df-spinner {\n",
              "    border: 2px solid var(--fill-color);\n",
              "    border-color: transparent;\n",
              "    border-bottom-color: var(--fill-color);\n",
              "    animation:\n",
              "      spin 1s steps(1) infinite;\n",
              "  }\n",
              "\n",
              "  @keyframes spin {\n",
              "    0% {\n",
              "      border-color: transparent;\n",
              "      border-bottom-color: var(--fill-color);\n",
              "      border-left-color: var(--fill-color);\n",
              "    }\n",
              "    20% {\n",
              "      border-color: transparent;\n",
              "      border-left-color: var(--fill-color);\n",
              "      border-top-color: var(--fill-color);\n",
              "    }\n",
              "    30% {\n",
              "      border-color: transparent;\n",
              "      border-left-color: var(--fill-color);\n",
              "      border-top-color: var(--fill-color);\n",
              "      border-right-color: var(--fill-color);\n",
              "    }\n",
              "    40% {\n",
              "      border-color: transparent;\n",
              "      border-right-color: var(--fill-color);\n",
              "      border-top-color: var(--fill-color);\n",
              "    }\n",
              "    60% {\n",
              "      border-color: transparent;\n",
              "      border-right-color: var(--fill-color);\n",
              "    }\n",
              "    80% {\n",
              "      border-color: transparent;\n",
              "      border-right-color: var(--fill-color);\n",
              "      border-bottom-color: var(--fill-color);\n",
              "    }\n",
              "    90% {\n",
              "      border-color: transparent;\n",
              "      border-bottom-color: var(--fill-color);\n",
              "    }\n",
              "  }\n",
              "</style>\n",
              "\n",
              "  <script>\n",
              "    async function quickchart(key) {\n",
              "      const quickchartButtonEl =\n",
              "        document.querySelector('#' + key + ' button');\n",
              "      quickchartButtonEl.disabled = true;  // To prevent multiple clicks.\n",
              "      quickchartButtonEl.classList.add('colab-df-spinner');\n",
              "      try {\n",
              "        const charts = await google.colab.kernel.invokeFunction(\n",
              "            'suggestCharts', [key], {});\n",
              "      } catch (error) {\n",
              "        console.error('Error during call to suggestCharts:', error);\n",
              "      }\n",
              "      quickchartButtonEl.classList.remove('colab-df-spinner');\n",
              "      quickchartButtonEl.classList.add('colab-df-quickchart-complete');\n",
              "    }\n",
              "    (() => {\n",
              "      let quickchartButtonEl =\n",
              "        document.querySelector('#df-cc5a9bc2-36a5-482f-9f2c-994873e89950 button');\n",
              "      quickchartButtonEl.style.display =\n",
              "        google.colab.kernel.accessAllowed ? 'block' : 'none';\n",
              "    })();\n",
              "  </script>\n",
              "</div>\n",
              "    </div>\n",
              "  </div>\n"
            ],
            "application/vnd.google.colaboratory.intrinsic+json": {
              "type": "dataframe",
              "variable_name": "df_random1000",
              "summary": "{\n  \"name\": \"df_random1000\",\n  \"rows\": 15,\n  \"fields\": [\n    {\n      \"column\": \"min_random, msec\",\n      \"properties\": {\n        \"dtype\": \"number\",\n        \"std\": 52.14713724672031,\n        \"min\": 1.858803999994052,\n        \"max\": 158.6417640000093,\n        \"num_unique_values\": 15,\n        \"samples\": [\n          3.2137850000140133,\n          4.772725999998784,\n          158.6417640000093\n        ],\n        \"semantic_type\": \"\",\n        \"description\": \"\"\n      }\n    },\n    {\n      \"column\": \"average_random, msec\",\n      \"properties\": {\n        \"dtype\": \"number\",\n        \"std\": 52.14713724672031,\n        \"min\": 1.858803999994052,\n        \"max\": 158.6417640000093,\n        \"num_unique_values\": 15,\n        \"samples\": [\n          3.2137850000140133,\n          4.772725999998784,\n          158.6417640000093\n        ],\n        \"semantic_type\": \"\",\n        \"description\": \"\"\n      }\n    },\n    {\n      \"column\": \"max_random, msec\",\n      \"properties\": {\n        \"dtype\": \"number\",\n        \"std\": 52.14713724672031,\n        \"min\": 1.858803999994052,\n        \"max\": 158.6417640000093,\n        \"num_unique_values\": 15,\n        \"samples\": [\n          3.2137850000140133,\n          4.772725999998784,\n          158.6417640000093\n        ],\n        \"semantic_type\": \"\",\n        \"description\": \"\"\n      }\n    }\n  ]\n}"
            }
          },
          "metadata": {},
          "execution_count": 28
        }
      ],
      "source": [
        "df_random1000 = pd.DataFrame.from_dict(dict_times_random, orient='index')\n",
        "df_random1000"
      ]
    },
    {
      "cell_type": "code",
      "execution_count": 29,
      "metadata": {
        "colab": {
          "base_uri": "https://localhost:8080/"
        },
        "id": "2PB4qFIv1BpI",
        "outputId": "a9778fda-54ab-4dd1-b46a-636aa6453f1d"
      },
      "outputs": [
        {
          "output_type": "execute_result",
          "data": {
            "text/plain": [
              "quick_sort          1.858804\n",
              "shell_sort          2.721509\n",
              "comb_sort           3.213785\n",
              "tim_sort            3.332544\n",
              "tree_sort           3.391356\n",
              "merge_sort          3.573117\n",
              "heap_sort           4.772726\n",
              "smooth_sort         8.337960\n",
              "selection_sort     24.406172\n",
              "insertion_sort     45.541239\n",
              "sort               49.529309\n",
              "gnome_opt_sort     75.026752\n",
              "shaker_sort        95.282519\n",
              "gnome_sort        134.378583\n",
              "bubble_sort       158.641764\n",
              "Name: average_random, msec, dtype: float64"
            ]
          },
          "metadata": {},
          "execution_count": 29
        }
      ],
      "source": [
        "df1000 = df_random1000['average_random, msec'].sort_values()\n",
        "df1000"
      ]
    },
    {
      "cell_type": "markdown",
      "source": [
        "Наримуем на графике для наглядности."
      ],
      "metadata": {
        "id": "IMG3vpu6Rfwa"
      }
    },
    {
      "source": [
        "from matplotlib import pyplot as plt\n",
        "df1000.plot(kind='line', figsize=(16, 4), title='Среднее время, м/с')\n",
        "plt.gca().spines[['top', 'right']].set_visible(False)"
      ],
      "cell_type": "code",
      "execution_count": 30,
      "outputs": [
        {
          "output_type": "display_data",
          "data": {
            "text/plain": [
              "<Figure size 1600x400 with 1 Axes>"
            ],
            "image/png": "[encoded data removed]"
          },
          "metadata": {}
        }
      ],
      "metadata": {
        "colab": {
          "base_uri": "https://localhost:8080/",
          "height": 310
        },
        "id": "oZsHt2h5RPKP",
        "outputId": "53b3cca8-a266-4c71-9526-b7887308cea7"
      }
    },
    {
      "cell_type": "markdown",
      "source": [
        "### Время сортировки для случайно сгенерированного списка в 10 000 элементов"
      ],
      "metadata": {
        "id": "CGumrG55R2VG"
      }
    },
    {
      "cell_type": "code",
      "source": [
        "dict_times_random = dict()\n",
        "\n",
        "for type_of_search in list_sort:\n",
        "    dict_times_random[type_of_search] = dict()\n",
        "    time_sort = measure_sort(type_of_search, source_list10000, n_repeat)\n",
        "    dict_times_random[type_of_search]['min_random, msec'] = time_sort[0] * 1000\n",
        "    dict_times_random[type_of_search]['average_random, msec'] = time_sort[1] * 1000\n",
        "    dict_times_random[type_of_search]['max_random, msec'] = time_sort[2] * 1000"
      ],
      "metadata": {
        "id": "6H7AKIt-RHZp"
      },
      "execution_count": 31,
      "outputs": []
    },
    {
      "cell_type": "code",
      "source": [
        "df_random10000 = pd.DataFrame.from_dict(dict_times_random, orient='index')\n",
        "df_random10000"
      ],
      "metadata": {
        "colab": {
          "base_uri": "https://localhost:8080/",
          "height": 514
        },
        "id": "_AqgOCB5SAHY",
        "outputId": "70db48a2-4b5c-414c-c53a-a7db7715c0a7"
      },
      "execution_count": 32,
      "outputs": [
        {
          "output_type": "execute_result",
          "data": {
            "text/plain": [
              "                min_random, msec  average_random, msec  max_random, msec\n",
              "bubble_sort         21130.872854          21130.872854      21130.872854\n",
              "shaker_sort         11485.816304          11485.816304      11485.816304\n",
              "insertion_sort       5330.703531           5330.703531       5330.703531\n",
              "gnome_sort          14132.638809          14132.638809      14132.638809\n",
              "gnome_opt_sort      10026.724911          10026.724911      10026.724911\n",
              "merge_sort             49.610224             49.610224         49.610224\n",
              "tree_sort              49.003735             49.003735         49.003735\n",
              "tim_sort               44.257230             44.257230         44.257230\n",
              "selection_sort       2513.063840           2513.063840       2513.063840\n",
              "comb_sort              53.782173             53.782173         53.782173\n",
              "shell_sort             44.282545             44.282545         44.282545\n",
              "heap_sort              71.900185             71.900185         71.900185\n",
              "smooth_sort           115.966396            115.966396        115.966396\n",
              "quick_sort             21.870164             21.870164         21.870164\n",
              "sort                 3343.710457           3343.710457       3343.710457"
            ],
            "text/html": [
              "\n",
              "  <div id=\"df-ff1a30dd-8b60-4d60-b489-8ffffd0dea23\" class=\"colab-df-container\">\n",
              "    <div>\n",
              "<style scoped>\n",
              "    .dataframe tbody tr th:only-of-type {\n",
              "        vertical-align: middle;\n",
              "    }\n",
              "\n",
              "    .dataframe tbody tr th {\n",
              "        vertical-align: top;\n",
              "    }\n",
              "\n",
              "    .dataframe thead th {\n",
              "        text-align: right;\n",
              "    }\n",
              "</style>\n",
              "<table border=\"1\" class=\"dataframe\">\n",
              "  <thead>\n",
              "    <tr style=\"text-align: right;\">\n",
              "      <th></th>\n",
              "      <th>min_random, msec</th>\n",
              "      <th>average_random, msec</th>\n",
              "      <th>max_random, msec</th>\n",
              "    </tr>\n",
              "  </thead>\n",
              "  <tbody>\n",
              "    <tr>\n",
              "      <th>bubble_sort</th>\n",
              "      <td>21130.872854</td>\n",
              "      <td>21130.872854</td>\n",
              "      <td>21130.872854</td>\n",
              "    </tr>\n",
              "    <tr>\n",
              "      <th>shaker_sort</th>\n",
              "      <td>11485.816304</td>\n",
              "      <td>11485.816304</td>\n",
              "      <td>11485.816304</td>\n",
              "    </tr>\n",
              "    <tr>\n",
              "      <th>insertion_sort</th>\n",
              "      <td>5330.703531</td>\n",
              "      <td>5330.703531</td>\n",
              "      <td>5330.703531</td>\n",
              "    </tr>\n",
              "    <tr>\n",
              "      <th>gnome_sort</th>\n",
              "      <td>14132.638809</td>\n",
              "      <td>14132.638809</td>\n",
              "      <td>14132.638809</td>\n",
              "    </tr>\n",
              "    <tr>\n",
              "      <th>gnome_opt_sort</th>\n",
              "      <td>10026.724911</td>\n",
              "      <td>10026.724911</td>\n",
              "      <td>10026.724911</td>\n",
              "    </tr>\n",
              "    <tr>\n",
              "      <th>merge_sort</th>\n",
              "      <td>49.610224</td>\n",
              "      <td>49.610224</td>\n",
              "      <td>49.610224</td>\n",
              "    </tr>\n",
              "    <tr>\n",
              "      <th>tree_sort</th>\n",
              "      <td>49.003735</td>\n",
              "      <td>49.003735</td>\n",
              "      <td>49.003735</td>\n",
              "    </tr>\n",
              "    <tr>\n",
              "      <th>tim_sort</th>\n",
              "      <td>44.257230</td>\n",
              "      <td>44.257230</td>\n",
              "      <td>44.257230</td>\n",
              "    </tr>\n",
              "    <tr>\n",
              "      <th>selection_sort</th>\n",
              "      <td>2513.063840</td>\n",
              "      <td>2513.063840</td>\n",
              "      <td>2513.063840</td>\n",
              "    </tr>\n",
              "    <tr>\n",
              "      <th>comb_sort</th>\n",
              "      <td>53.782173</td>\n",
              "      <td>53.782173</td>\n",
              "      <td>53.782173</td>\n",
              "    </tr>\n",
              "    <tr>\n",
              "      <th>shell_sort</th>\n",
              "      <td>44.282545</td>\n",
              "      <td>44.282545</td>\n",
              "      <td>44.282545</td>\n",
              "    </tr>\n",
              "    <tr>\n",
              "      <th>heap_sort</th>\n",
              "      <td>71.900185</td>\n",
              "      <td>71.900185</td>\n",
              "      <td>71.900185</td>\n",
              "    </tr>\n",
              "    <tr>\n",
              "      <th>smooth_sort</th>\n",
              "      <td>115.966396</td>\n",
              "      <td>115.966396</td>\n",
              "      <td>115.966396</td>\n",
              "    </tr>\n",
              "    <tr>\n",
              "      <th>quick_sort</th>\n",
              "      <td>21.870164</td>\n",
              "      <td>21.870164</td>\n",
              "      <td>21.870164</td>\n",
              "    </tr>\n",
              "    <tr>\n",
              "      <th>sort</th>\n",
              "      <td>3343.710457</td>\n",
              "      <td>3343.710457</td>\n",
              "      <td>3343.710457</td>\n",
              "    </tr>\n",
              "  </tbody>\n",
              "</table>\n",
              "</div>\n",
              "    <div class=\"colab-df-buttons\">\n",
              "\n",
              "  <div class=\"colab-df-container\">\n",
              "    <button class=\"colab-df-convert\" onclick=\"convertToInteractive('df-ff1a30dd-8b60-4d60-b489-8ffffd0dea23')\"\n",
              "            title=\"Convert this dataframe to an interactive table.\"\n",
              "            style=\"display:none;\">\n",
              "\n",
              "  <svg xmlns=\"http://www.w3.org/2000/svg\" height=\"24px\" viewBox=\"0 -960 960 960\">\n",
              "    <path d=\"M120-120v-720h720v720H120Zm60-500h600v-160H180v160Zm220 220h160v-160H400v160Zm0 220h160v-160H400v160ZM180-400h160v-160H180v160Zm440 0h160v-160H620v160ZM180-180h160v-160H180v160Zm440 0h160v-160H620v160Z\"/>\n",
              "  </svg>\n",
              "    </button>\n",
              "\n",
              "  <style>\n",
              "    .colab-df-container {\n",
              "      display:flex;\n",
              "      gap: 12px;\n",
              "    }\n",
              "\n",
              "    .colab-df-convert {\n",
              "      background-color: #E8F0FE;\n",
              "      border: none;\n",
              "      border-radius: 50%;\n",
              "      cursor: pointer;\n",
              "      display: none;\n",
              "      fill: #1967D2;\n",
              "      height: 32px;\n",
              "      padding: 0 0 0 0;\n",
              "      width: 32px;\n",
              "    }\n",
              "\n",
              "    .colab-df-convert:hover {\n",
              "      background-color: #E2EBFA;\n",
              "      box-shadow: 0px 1px 2px rgba(60, 64, 67, 0.3), 0px 1px 3px 1px rgba(60, 64, 67, 0.15);\n",
              "      fill: #174EA6;\n",
              "    }\n",
              "\n",
              "    .colab-df-buttons div {\n",
              "      margin-bottom: 4px;\n",
              "    }\n",
              "\n",
              "    [theme=dark] .colab-df-convert {\n",
              "      background-color: #3B4455;\n",
              "      fill: #D2E3FC;\n",
              "    }\n",
              "\n",
              "    [theme=dark] .colab-df-convert:hover {\n",
              "      background-color: #434B5C;\n",
              "      box-shadow: 0px 1px 3px 1px rgba(0, 0, 0, 0.15);\n",
              "      filter: drop-shadow(0px 1px 2px rgba(0, 0, 0, 0.3));\n",
              "      fill: #FFFFFF;\n",
              "    }\n",
              "  </style>\n",
              "\n",
              "    <script>\n",
              "      const buttonEl =\n",
              "        document.querySelector('#df-ff1a30dd-8b60-4d60-b489-8ffffd0dea23 button.colab-df-convert');\n",
              "      buttonEl.style.display =\n",
              "        google.colab.kernel.accessAllowed ? 'block' : 'none';\n",
              "\n",
              "      async function convertToInteractive(key) {\n",
              "        const element = document.querySelector('#df-ff1a30dd-8b60-4d60-b489-8ffffd0dea23');\n",
              "        const dataTable =\n",
              "          await google.colab.kernel.invokeFunction('convertToInteractive',\n",
              "                                                    [key], {});\n",
              "        if (!dataTable) return;\n",
              "\n",
              "        const docLinkHtml = 'Like what you see? Visit the ' +\n",
              "          '<a target=\"_blank\" href=https://colab.research.google.com/notebooks/data_table.ipynb>data table notebook</a>'\n",
              "          + ' to learn more about interactive tables.';\n",
              "        element.innerHTML = '';\n",
              "        dataTable['output_type'] = 'display_data';\n",
              "        await google.colab.output.renderOutput(dataTable, element);\n",
              "        const docLink = document.createElement('div');\n",
              "        docLink.innerHTML = docLinkHtml;\n",
              "        element.appendChild(docLink);\n",
              "      }\n",
              "    </script>\n",
              "  </div>\n",
              "\n",
              "\n",
              "<div id=\"df-1926ca1b-45b7-44ef-bc8f-564653ce3c22\">\n",
              "  <button class=\"colab-df-quickchart\" onclick=\"quickchart('df-1926ca1b-45b7-44ef-bc8f-564653ce3c22')\"\n",
              "            title=\"Suggest charts\"\n",
              "            style=\"display:none;\">\n",
              "\n",
              "<svg xmlns=\"http://www.w3.org/2000/svg\" height=\"24px\"viewBox=\"0 0 24 24\"\n",
              "     width=\"24px\">\n",
              "    <g>\n",
              "        <path d=\"M19 3H5c-1.1 0-2 .9-2 2v14c0 1.1.9 2 2 2h14c1.1 0 2-.9 2-2V5c0-1.1-.9-2-2-2zM9 17H7v-7h2v7zm4 0h-2V7h2v10zm4 0h-2v-4h2v4z\"/>\n",
              "    </g>\n",
              "</svg>\n",
              "  </button>\n",
              "\n",
              "<style>\n",
              "  .colab-df-quickchart {\n",
              "      --bg-color: #E8F0FE;\n",
              "      --fill-color: #1967D2;\n",
              "      --hover-bg-color: #E2EBFA;\n",
              "      --hover-fill-color: #174EA6;\n",
              "      --disabled-fill-color: #AAA;\n",
              "      --disabled-bg-color: #DDD;\n",
              "  }\n",
              "\n",
              "  [theme=dark] .colab-df-quickchart {\n",
              "      --bg-color: #3B4455;\n",
              "      --fill-color: #D2E3FC;\n",
              "      --hover-bg-color: #434B5C;\n",
              "      --hover-fill-color: #FFFFFF;\n",
              "      --disabled-bg-color: #3B4455;\n",
              "      --disabled-fill-color: #666;\n",
              "  }\n",
              "\n",
              "  .colab-df-quickchart {\n",
              "    background-color: var(--bg-color);\n",
              "    border: none;\n",
              "    border-radius: 50%;\n",
              "    cursor: pointer;\n",
              "    display: none;\n",
              "    fill: var(--fill-color);\n",
              "    height: 32px;\n",
              "    padding: 0;\n",
              "    width: 32px;\n",
              "  }\n",
              "\n",
              "  .colab-df-quickchart:hover {\n",
              "    background-color: var(--hover-bg-color);\n",
              "    box-shadow: 0 1px 2px rgba(60, 64, 67, 0.3), 0 1px 3px 1px rgba(60, 64, 67, 0.15);\n",
              "    fill: var(--button-hover-fill-color);\n",
              "  }\n",
              "\n",
              "  .colab-df-quickchart-complete:disabled,\n",
              "  .colab-df-quickchart-complete:disabled:hover {\n",
              "    background-color: var(--disabled-bg-color);\n",
              "    fill: var(--disabled-fill-color);\n",
              "    box-shadow: none;\n",
              "  }\n",
              "\n",
              "  .colab-df-spinner {\n",
              "    border: 2px solid var(--fill-color);\n",
              "    border-color: transparent;\n",
              "    border-bottom-color: var(--fill-color);\n",
              "    animation:\n",
              "      spin 1s steps(1) infinite;\n",
              "  }\n",
              "\n",
              "  @keyframes spin {\n",
              "    0% {\n",
              "      border-color: transparent;\n",
              "      border-bottom-color: var(--fill-color);\n",
              "      border-left-color: var(--fill-color);\n",
              "    }\n",
              "    20% {\n",
              "      border-color: transparent;\n",
              "      border-left-color: var(--fill-color);\n",
              "      border-top-color: var(--fill-color);\n",
              "    }\n",
              "    30% {\n",
              "      border-color: transparent;\n",
              "      border-left-color: var(--fill-color);\n",
              "      border-top-color: var(--fill-color);\n",
              "      border-right-color: var(--fill-color);\n",
              "    }\n",
              "    40% {\n",
              "      border-color: transparent;\n",
              "      border-right-color: var(--fill-color);\n",
              "      border-top-color: var(--fill-color);\n",
              "    }\n",
              "    60% {\n",
              "      border-color: transparent;\n",
              "      border-right-color: var(--fill-color);\n",
              "    }\n",
              "    80% {\n",
              "      border-color: transparent;\n",
              "      border-right-color: var(--fill-color);\n",
              "      border-bottom-color: var(--fill-color);\n",
              "    }\n",
              "    90% {\n",
              "      border-color: transparent;\n",
              "      border-bottom-color: var(--fill-color);\n",
              "    }\n",
              "  }\n",
              "</style>\n",
              "\n",
              "  <script>\n",
              "    async function quickchart(key) {\n",
              "      const quickchartButtonEl =\n",
              "        document.querySelector('#' + key + ' button');\n",
              "      quickchartButtonEl.disabled = true;  // To prevent multiple clicks.\n",
              "      quickchartButtonEl.classList.add('colab-df-spinner');\n",
              "      try {\n",
              "        const charts = await google.colab.kernel.invokeFunction(\n",
              "            'suggestCharts', [key], {});\n",
              "      } catch (error) {\n",
              "        console.error('Error during call to suggestCharts:', error);\n",
              "      }\n",
              "      quickchartButtonEl.classList.remove('colab-df-spinner');\n",
              "      quickchartButtonEl.classList.add('colab-df-quickchart-complete');\n",
              "    }\n",
              "    (() => {\n",
              "      let quickchartButtonEl =\n",
              "        document.querySelector('#df-1926ca1b-45b7-44ef-bc8f-564653ce3c22 button');\n",
              "      quickchartButtonEl.style.display =\n",
              "        google.colab.kernel.accessAllowed ? 'block' : 'none';\n",
              "    })();\n",
              "  </script>\n",
              "</div>\n",
              "    </div>\n",
              "  </div>\n"
            ],
            "application/vnd.google.colaboratory.intrinsic+json": {
              "type": "dataframe",
              "variable_name": "df_random10000",
              "summary": "{\n  \"name\": \"df_random10000\",\n  \"rows\": 15,\n  \"fields\": [\n    {\n      \"column\": \"min_random, msec\",\n      \"properties\": {\n        \"dtype\": \"number\",\n        \"std\": 6614.993619949644,\n        \"min\": 21.870164000006298,\n        \"max\": 21130.87285399999,\n        \"num_unique_values\": 15,\n        \"samples\": [\n          53.782173000001876,\n          71.90018500000406,\n          21130.87285399999\n        ],\n        \"semantic_type\": \"\",\n        \"description\": \"\"\n      }\n    },\n    {\n      \"column\": \"average_random, msec\",\n      \"properties\": {\n        \"dtype\": \"number\",\n        \"std\": 6614.993619949644,\n        \"min\": 21.870164000006298,\n        \"max\": 21130.87285399999,\n        \"num_unique_values\": 15,\n        \"samples\": [\n          53.782173000001876,\n          71.90018500000406,\n          21130.87285399999\n        ],\n        \"semantic_type\": \"\",\n        \"description\": \"\"\n      }\n    },\n    {\n      \"column\": \"max_random, msec\",\n      \"properties\": {\n        \"dtype\": \"number\",\n        \"std\": 6614.993619949644,\n        \"min\": 21.870164000006298,\n        \"max\": 21130.87285399999,\n        \"num_unique_values\": 15,\n        \"samples\": [\n          53.782173000001876,\n          71.90018500000406,\n          21130.87285399999\n        ],\n        \"semantic_type\": \"\",\n        \"description\": \"\"\n      }\n    }\n  ]\n}"
            }
          },
          "metadata": {},
          "execution_count": 32
        }
      ]
    },
    {
      "cell_type": "code",
      "source": [
        "df10000 = df_random10000['average_random, msec'].sort_values()\n",
        "df10000"
      ],
      "metadata": {
        "colab": {
          "base_uri": "https://localhost:8080/"
        },
        "id": "0h_UR89aVW_e",
        "outputId": "eaba2e08-98a2-41c7-ee57-d51a5fc41c24"
      },
      "execution_count": 33,
      "outputs": [
        {
          "output_type": "execute_result",
          "data": {
            "text/plain": [
              "quick_sort           21.870164\n",
              "tim_sort             44.257230\n",
              "shell_sort           44.282545\n",
              "tree_sort            49.003735\n",
              "merge_sort           49.610224\n",
              "comb_sort            53.782173\n",
              "heap_sort            71.900185\n",
              "smooth_sort         115.966396\n",
              "selection_sort     2513.063840\n",
              "sort               3343.710457\n",
              "insertion_sort     5330.703531\n",
              "gnome_opt_sort    10026.724911\n",
              "shaker_sort       11485.816304\n",
              "gnome_sort        14132.638809\n",
              "bubble_sort       21130.872854\n",
              "Name: average_random, msec, dtype: float64"
            ]
          },
          "metadata": {},
          "execution_count": 33
        }
      ]
    },
    {
      "cell_type": "markdown",
      "source": [
        "Наримуем на графике для наглядности."
      ],
      "metadata": {
        "id": "KiN8QDTTTheT"
      }
    },
    {
      "cell_type": "code",
      "source": [
        "from matplotlib import pyplot as plt\n",
        "df10000.plot(kind='line', figsize=(16, 4), title='Среднее время, м/с')\n",
        "plt.gca().spines[['top', 'right']].set_visible(False)"
      ],
      "metadata": {
        "colab": {
          "base_uri": "https://localhost:8080/",
          "height": 306
        },
        "id": "55B2eZh5TiO2",
        "outputId": "f2606284-1137-4f0d-b3e5-62faf42c5651"
      },
      "execution_count": 34,
      "outputs": [
        {
          "output_type": "display_data",
          "data": {
            "text/plain": [
              "<Figure size 1600x400 with 1 Axes>"
            ],
            "image/png": "[encoded data removed]"
          },
          "metadata": {}
        }
      ]
    },
    {
      "cell_type": "markdown",
      "source": [
        "### Время сортировки для случайно сгенерированного списка в 25 000 элементов"
      ],
      "metadata": {
        "id": "gTX9PZNmR-0m"
      }
    },
    {
      "cell_type": "code",
      "source": [
        "dict_times_random = dict()\n",
        "\n",
        "for type_of_search in list_sort:\n",
        "    dict_times_random[type_of_search] = dict()\n",
        "    time_sort = measure_sort(type_of_search, source_list25000, n_repeat)\n",
        "    dict_times_random[type_of_search]['min_random, msec'] = time_sort[0] * 1000\n",
        "    dict_times_random[type_of_search]['average_random, msec'] = time_sort[1] * 1000\n",
        "    dict_times_random[type_of_search]['max_random, msec'] = time_sort[2] * 1000"
      ],
      "metadata": {
        "id": "dD5vgfmSTYKP"
      },
      "execution_count": 37,
      "outputs": []
    },
    {
      "cell_type": "code",
      "source": [
        "df_random25000 = pd.DataFrame.from_dict(dict_times_random, orient='index')\n",
        "df_random25000"
      ],
      "metadata": {
        "colab": {
          "base_uri": "https://localhost:8080/",
          "height": 514
        },
        "id": "60mpph4ITb1U",
        "outputId": "a8a2ecad-ac0f-4161-da24-b1dbf001896d"
      },
      "execution_count": 38,
      "outputs": [
        {
          "output_type": "execute_result",
          "data": {
            "text/plain": [
              "                min_random, msec  average_random, msec  max_random, msec\n",
              "bubble_sort        138877.269397         138877.269397     138877.269397\n",
              "shaker_sort         81923.788855          81923.788855      81923.788855\n",
              "insertion_sort      39853.710775          39853.710775      39853.710775\n",
              "gnome_sort          95140.511964          95140.511964      95140.511964\n",
              "gnome_opt_sort      66173.435549          66173.435549      66173.435549\n",
              "merge_sort            248.547628            248.547628        248.547628\n",
              "tree_sort             297.197562            297.197562        297.197562\n",
              "tim_sort              143.199592            143.199592        143.199592\n",
              "selection_sort      19156.483592          19156.483592      19156.483592\n",
              "comb_sort             200.961411            200.961411        200.961411\n",
              "shell_sort            162.905919            162.905919        162.905919\n",
              "heap_sort             214.929756            214.929756        214.929756\n",
              "smooth_sort           324.941851            324.941851        324.941851\n",
              "quick_sort             65.348124             65.348124         65.348124\n",
              "sort                32281.136194          32281.136194      32281.136194"
            ],
            "text/html": [
              "\n",
              "  <div id=\"df-db0fa51c-133d-4a2e-9e8d-64eb46fa43ea\" class=\"colab-df-container\">\n",
              "    <div>\n",
              "<style scoped>\n",
              "    .dataframe tbody tr th:only-of-type {\n",
              "        vertical-align: middle;\n",
              "    }\n",
              "\n",
              "    .dataframe tbody tr th {\n",
              "        vertical-align: top;\n",
              "    }\n",
              "\n",
              "    .dataframe thead th {\n",
              "        text-align: right;\n",
              "    }\n",
              "</style>\n",
              "<table border=\"1\" class=\"dataframe\">\n",
              "  <thead>\n",
              "    <tr style=\"text-align: right;\">\n",
              "      <th></th>\n",
              "      <th>min_random, msec</th>\n",
              "      <th>average_random, msec</th>\n",
              "      <th>max_random, msec</th>\n",
              "    </tr>\n",
              "  </thead>\n",
              "  <tbody>\n",
              "    <tr>\n",
              "      <th>bubble_sort</th>\n",
              "      <td>138877.269397</td>\n",
              "      <td>138877.269397</td>\n",
              "      <td>138877.269397</td>\n",
              "    </tr>\n",
              "    <tr>\n",
              "      <th>shaker_sort</th>\n",
              "      <td>81923.788855</td>\n",
              "      <td>81923.788855</td>\n",
              "      <td>81923.788855</td>\n",
              "    </tr>\n",
              "    <tr>\n",
              "      <th>insertion_sort</th>\n",
              "      <td>39853.710775</td>\n",
              "      <td>39853.710775</td>\n",
              "      <td>39853.710775</td>\n",
              "    </tr>\n",
              "    <tr>\n",
              "      <th>gnome_sort</th>\n",
              "      <td>95140.511964</td>\n",
              "      <td>95140.511964</td>\n",
              "      <td>95140.511964</td>\n",
              "    </tr>\n",
              "    <tr>\n",
              "      <th>gnome_opt_sort</th>\n",
              "      <td>66173.435549</td>\n",
              "      <td>66173.435549</td>\n",
              "      <td>66173.435549</td>\n",
              "    </tr>\n",
              "    <tr>\n",
              "      <th>merge_sort</th>\n",
              "      <td>248.547628</td>\n",
              "      <td>248.547628</td>\n",
              "      <td>248.547628</td>\n",
              "    </tr>\n",
              "    <tr>\n",
              "      <th>tree_sort</th>\n",
              "      <td>297.197562</td>\n",
              "      <td>297.197562</td>\n",
              "      <td>297.197562</td>\n",
              "    </tr>\n",
              "    <tr>\n",
              "      <th>tim_sort</th>\n",
              "      <td>143.199592</td>\n",
              "      <td>143.199592</td>\n",
              "      <td>143.199592</td>\n",
              "    </tr>\n",
              "    <tr>\n",
              "      <th>selection_sort</th>\n",
              "      <td>19156.483592</td>\n",
              "      <td>19156.483592</td>\n",
              "      <td>19156.483592</td>\n",
              "    </tr>\n",
              "    <tr>\n",
              "      <th>comb_sort</th>\n",
              "      <td>200.961411</td>\n",
              "      <td>200.961411</td>\n",
              "      <td>200.961411</td>\n",
              "    </tr>\n",
              "    <tr>\n",
              "      <th>shell_sort</th>\n",
              "      <td>162.905919</td>\n",
              "      <td>162.905919</td>\n",
              "      <td>162.905919</td>\n",
              "    </tr>\n",
              "    <tr>\n",
              "      <th>heap_sort</th>\n",
              "      <td>214.929756</td>\n",
              "      <td>214.929756</td>\n",
              "      <td>214.929756</td>\n",
              "    </tr>\n",
              "    <tr>\n",
              "      <th>smooth_sort</th>\n",
              "      <td>324.941851</td>\n",
              "      <td>324.941851</td>\n",
              "      <td>324.941851</td>\n",
              "    </tr>\n",
              "    <tr>\n",
              "      <th>quick_sort</th>\n",
              "      <td>65.348124</td>\n",
              "      <td>65.348124</td>\n",
              "      <td>65.348124</td>\n",
              "    </tr>\n",
              "    <tr>\n",
              "      <th>sort</th>\n",
              "      <td>32281.136194</td>\n",
              "      <td>32281.136194</td>\n",
              "      <td>32281.136194</td>\n",
              "    </tr>\n",
              "  </tbody>\n",
              "</table>\n",
              "</div>\n",
              "    <div class=\"colab-df-buttons\">\n",
              "\n",
              "  <div class=\"colab-df-container\">\n",
              "    <button class=\"colab-df-convert\" onclick=\"convertToInteractive('df-db0fa51c-133d-4a2e-9e8d-64eb46fa43ea')\"\n",
              "            title=\"Convert this dataframe to an interactive table.\"\n",
              "            style=\"display:none;\">\n",
              "\n",
              "  <svg xmlns=\"http://www.w3.org/2000/svg\" height=\"24px\" viewBox=\"0 -960 960 960\">\n",
              "    <path d=\"M120-120v-720h720v720H120Zm60-500h600v-160H180v160Zm220 220h160v-160H400v160Zm0 220h160v-160H400v160ZM180-400h160v-160H180v160Zm440 0h160v-160H620v160ZM180-180h160v-160H180v160Zm440 0h160v-160H620v160Z\"/>\n",
              "  </svg>\n",
              "    </button>\n",
              "\n",
              "  <style>\n",
              "    .colab-df-container {\n",
              "      display:flex;\n",
              "      gap: 12px;\n",
              "    }\n",
              "\n",
              "    .colab-df-convert {\n",
              "      background-color: #E8F0FE;\n",
              "      border: none;\n",
              "      border-radius: 50%;\n",
              "      cursor: pointer;\n",
              "      display: none;\n",
              "      fill: #1967D2;\n",
              "      height: 32px;\n",
              "      padding: 0 0 0 0;\n",
              "      width: 32px;\n",
              "    }\n",
              "\n",
              "    .colab-df-convert:hover {\n",
              "      background-color: #E2EBFA;\n",
              "      box-shadow: 0px 1px 2px rgba(60, 64, 67, 0.3), 0px 1px 3px 1px rgba(60, 64, 67, 0.15);\n",
              "      fill: #174EA6;\n",
              "    }\n",
              "\n",
              "    .colab-df-buttons div {\n",
              "      margin-bottom: 4px;\n",
              "    }\n",
              "\n",
              "    [theme=dark] .colab-df-convert {\n",
              "      background-color: #3B4455;\n",
              "      fill: #D2E3FC;\n",
              "    }\n",
              "\n",
              "    [theme=dark] .colab-df-convert:hover {\n",
              "      background-color: #434B5C;\n",
              "      box-shadow: 0px 1px 3px 1px rgba(0, 0, 0, 0.15);\n",
              "      filter: drop-shadow(0px 1px 2px rgba(0, 0, 0, 0.3));\n",
              "      fill: #FFFFFF;\n",
              "    }\n",
              "  </style>\n",
              "\n",
              "    <script>\n",
              "      const buttonEl =\n",
              "        document.querySelector('#df-db0fa51c-133d-4a2e-9e8d-64eb46fa43ea button.colab-df-convert');\n",
              "      buttonEl.style.display =\n",
              "        google.colab.kernel.accessAllowed ? 'block' : 'none';\n",
              "\n",
              "      async function convertToInteractive(key) {\n",
              "        const element = document.querySelector('#df-db0fa51c-133d-4a2e-9e8d-64eb46fa43ea');\n",
              "        const dataTable =\n",
              "          await google.colab.kernel.invokeFunction('convertToInteractive',\n",
              "                                                    [key], {});\n",
              "        if (!dataTable) return;\n",
              "\n",
              "        const docLinkHtml = 'Like what you see? Visit the ' +\n",
              "          '<a target=\"_blank\" href=https://colab.research.google.com/notebooks/data_table.ipynb>data table notebook</a>'\n",
              "          + ' to learn more about interactive tables.';\n",
              "        element.innerHTML = '';\n",
              "        dataTable['output_type'] = 'display_data';\n",
              "        await google.colab.output.renderOutput(dataTable, element);\n",
              "        const docLink = document.createElement('div');\n",
              "        docLink.innerHTML = docLinkHtml;\n",
              "        element.appendChild(docLink);\n",
              "      }\n",
              "    </script>\n",
              "  </div>\n",
              "\n",
              "\n",
              "<div id=\"df-c935ee2b-9694-4226-8424-12ec7f5f6a01\">\n",
              "  <button class=\"colab-df-quickchart\" onclick=\"quickchart('df-c935ee2b-9694-4226-8424-12ec7f5f6a01')\"\n",
              "            title=\"Suggest charts\"\n",
              "            style=\"display:none;\">\n",
              "\n",
              "<svg xmlns=\"http://www.w3.org/2000/svg\" height=\"24px\"viewBox=\"0 0 24 24\"\n",
              "     width=\"24px\">\n",
              "    <g>\n",
              "        <path d=\"M19 3H5c-1.1 0-2 .9-2 2v14c0 1.1.9 2 2 2h14c1.1 0 2-.9 2-2V5c0-1.1-.9-2-2-2zM9 17H7v-7h2v7zm4 0h-2V7h2v10zm4 0h-2v-4h2v4z\"/>\n",
              "    </g>\n",
              "</svg>\n",
              "  </button>\n",
              "\n",
              "<style>\n",
              "  .colab-df-quickchart {\n",
              "      --bg-color: #E8F0FE;\n",
              "      --fill-color: #1967D2;\n",
              "      --hover-bg-color: #E2EBFA;\n",
              "      --hover-fill-color: #174EA6;\n",
              "      --disabled-fill-color: #AAA;\n",
              "      --disabled-bg-color: #DDD;\n",
              "  }\n",
              "\n",
              "  [theme=dark] .colab-df-quickchart {\n",
              "      --bg-color: #3B4455;\n",
              "      --fill-color: #D2E3FC;\n",
              "      --hover-bg-color: #434B5C;\n",
              "      --hover-fill-color: #FFFFFF;\n",
              "      --disabled-bg-color: #3B4455;\n",
              "      --disabled-fill-color: #666;\n",
              "  }\n",
              "\n",
              "  .colab-df-quickchart {\n",
              "    background-color: var(--bg-color);\n",
              "    border: none;\n",
              "    border-radius: 50%;\n",
              "    cursor: pointer;\n",
              "    display: none;\n",
              "    fill: var(--fill-color);\n",
              "    height: 32px;\n",
              "    padding: 0;\n",
              "    width: 32px;\n",
              "  }\n",
              "\n",
              "  .colab-df-quickchart:hover {\n",
              "    background-color: var(--hover-bg-color);\n",
              "    box-shadow: 0 1px 2px rgba(60, 64, 67, 0.3), 0 1px 3px 1px rgba(60, 64, 67, 0.15);\n",
              "    fill: var(--button-hover-fill-color);\n",
              "  }\n",
              "\n",
              "  .colab-df-quickchart-complete:disabled,\n",
              "  .colab-df-quickchart-complete:disabled:hover {\n",
              "    background-color: var(--disabled-bg-color);\n",
              "    fill: var(--disabled-fill-color);\n",
              "    box-shadow: none;\n",
              "  }\n",
              "\n",
              "  .colab-df-spinner {\n",
              "    border: 2px solid var(--fill-color);\n",
              "    border-color: transparent;\n",
              "    border-bottom-color: var(--fill-color);\n",
              "    animation:\n",
              "      spin 1s steps(1) infinite;\n",
              "  }\n",
              "\n",
              "  @keyframes spin {\n",
              "    0% {\n",
              "      border-color: transparent;\n",
              "      border-bottom-color: var(--fill-color);\n",
              "      border-left-color: var(--fill-color);\n",
              "    }\n",
              "    20% {\n",
              "      border-color: transparent;\n",
              "      border-left-color: var(--fill-color);\n",
              "      border-top-color: var(--fill-color);\n",
              "    }\n",
              "    30% {\n",
              "      border-color: transparent;\n",
              "      border-left-color: var(--fill-color);\n",
              "      border-top-color: var(--fill-color);\n",
              "      border-right-color: var(--fill-color);\n",
              "    }\n",
              "    40% {\n",
              "      border-color: transparent;\n",
              "      border-right-color: var(--fill-color);\n",
              "      border-top-color: var(--fill-color);\n",
              "    }\n",
              "    60% {\n",
              "      border-color: transparent;\n",
              "      border-right-color: var(--fill-color);\n",
              "    }\n",
              "    80% {\n",
              "      border-color: transparent;\n",
              "      border-right-color: var(--fill-color);\n",
              "      border-bottom-color: var(--fill-color);\n",
              "    }\n",
              "    90% {\n",
              "      border-color: transparent;\n",
              "      border-bottom-color: var(--fill-color);\n",
              "    }\n",
              "  }\n",
              "</style>\n",
              "\n",
              "  <script>\n",
              "    async function quickchart(key) {\n",
              "      const quickchartButtonEl =\n",
              "        document.querySelector('#' + key + ' button');\n",
              "      quickchartButtonEl.disabled = true;  // To prevent multiple clicks.\n",
              "      quickchartButtonEl.classList.add('colab-df-spinner');\n",
              "      try {\n",
              "        const charts = await google.colab.kernel.invokeFunction(\n",
              "            'suggestCharts', [key], {});\n",
              "      } catch (error) {\n",
              "        console.error('Error during call to suggestCharts:', error);\n",
              "      }\n",
              "      quickchartButtonEl.classList.remove('colab-df-spinner');\n",
              "      quickchartButtonEl.classList.add('colab-df-quickchart-complete');\n",
              "    }\n",
              "    (() => {\n",
              "      let quickchartButtonEl =\n",
              "        document.querySelector('#df-c935ee2b-9694-4226-8424-12ec7f5f6a01 button');\n",
              "      quickchartButtonEl.style.display =\n",
              "        google.colab.kernel.accessAllowed ? 'block' : 'none';\n",
              "    })();\n",
              "  </script>\n",
              "</div>\n",
              "    </div>\n",
              "  </div>\n"
            ],
            "application/vnd.google.colaboratory.intrinsic+json": {
              "type": "dataframe",
              "variable_name": "df_random25000",
              "summary": "{\n  \"name\": \"df_random25000\",\n  \"rows\": 15,\n  \"fields\": [\n    {\n      \"column\": \"min_random, msec\",\n      \"properties\": {\n        \"dtype\": \"number\",\n        \"std\": 44224.31021495473,\n        \"min\": 65.34812400013834,\n        \"max\": 138877.26939699997,\n        \"num_unique_values\": 15,\n        \"samples\": [\n          200.96141099975284,\n          214.9297559999468,\n          138877.26939699997\n        ],\n        \"semantic_type\": \"\",\n        \"description\": \"\"\n      }\n    },\n    {\n      \"column\": \"average_random, msec\",\n      \"properties\": {\n        \"dtype\": \"number\",\n        \"std\": 44224.31021495473,\n        \"min\": 65.34812400013834,\n        \"max\": 138877.26939699997,\n        \"num_unique_values\": 15,\n        \"samples\": [\n          200.96141099975284,\n          214.9297559999468,\n          138877.26939699997\n        ],\n        \"semantic_type\": \"\",\n        \"description\": \"\"\n      }\n    },\n    {\n      \"column\": \"max_random, msec\",\n      \"properties\": {\n        \"dtype\": \"number\",\n        \"std\": 44224.31021495473,\n        \"min\": 65.34812400013834,\n        \"max\": 138877.26939699997,\n        \"num_unique_values\": 15,\n        \"samples\": [\n          200.96141099975284,\n          214.9297559999468,\n          138877.26939699997\n        ],\n        \"semantic_type\": \"\",\n        \"description\": \"\"\n      }\n    }\n  ]\n}"
            }
          },
          "metadata": {},
          "execution_count": 38
        }
      ]
    },
    {
      "cell_type": "code",
      "source": [
        "df25000 = df_random25000['average_random, msec'].sort_values()\n",
        "df25000"
      ],
      "metadata": {
        "colab": {
          "base_uri": "https://localhost:8080/"
        },
        "id": "iM9lSgpyVnZO",
        "outputId": "3db371e1-411d-441f-9b94-151ddfc83794"
      },
      "execution_count": 39,
      "outputs": [
        {
          "output_type": "execute_result",
          "data": {
            "text/plain": [
              "quick_sort            65.348124\n",
              "tim_sort             143.199592\n",
              "shell_sort           162.905919\n",
              "comb_sort            200.961411\n",
              "heap_sort            214.929756\n",
              "merge_sort           248.547628\n",
              "tree_sort            297.197562\n",
              "smooth_sort          324.941851\n",
              "selection_sort     19156.483592\n",
              "sort               32281.136194\n",
              "insertion_sort     39853.710775\n",
              "gnome_opt_sort     66173.435549\n",
              "shaker_sort        81923.788855\n",
              "gnome_sort         95140.511964\n",
              "bubble_sort       138877.269397\n",
              "Name: average_random, msec, dtype: float64"
            ]
          },
          "metadata": {},
          "execution_count": 39
        }
      ]
    },
    {
      "cell_type": "markdown",
      "source": [
        "Наримуем на графике для наглядности."
      ],
      "metadata": {
        "id": "jDmW1mE7Ti6O"
      }
    },
    {
      "cell_type": "code",
      "source": [
        "from matplotlib import pyplot as plt\n",
        "df25000.plot(kind='line', figsize=(16, 4), title='Среднее время, м/с')\n",
        "plt.gca().spines[['top', 'right']].set_visible(False)"
      ],
      "metadata": {
        "colab": {
          "base_uri": "https://localhost:8080/",
          "height": 304
        },
        "id": "uI8hSNzTTjXd",
        "outputId": "9e9e6a40-2372-4c7b-aae3-92caef023520"
      },
      "execution_count": 40,
      "outputs": [
        {
          "output_type": "display_data",
          "data": {
            "text/plain": [
              "<Figure size 1600x400 with 1 Axes>"
            ],
            "image/png": "[encoded data removed]"
          },
          "metadata": {}
        }
      ]
    },
    {
      "cell_type": "markdown",
      "metadata": {
        "id": "8Yhtdky7By0C"
      },
      "source": [
        "### Выводы"
      ]
    },
    {
      "cell_type": "markdown",
      "metadata": {
        "id": "2A-VCNIj1JGd"
      },
      "source": [
        "Из результатов замеров мы видим, что лучше всего себя показывает \"Быстрая сортировка\" во всех трех испытаниях, также успешно прошла тест \"Timsort\" и \"сортировка Шелла\", но на небольших данных \"сортировка расческой\" тоже попала в тройку лидеров. Хуже всего на все списках были \"шейкерная\", \"гномья сортиврока\" и \"пузырьковая сортировка\".\n",
        "\n",
        "Соответственно, сделаем вывод, что если у вас список данных небольшой, то можно применять \"сортировку расческой\". Ну а если неизвестно сколько будет данных заранее, то лучше использовать \"Быструю сортировку\", \"Timsort\" или \"сортировку Шелла\"."
      ]
    }
  ],
  "metadata": {
    "colab": {
      "gpuType": "T4",
      "provenance": [],
      "toc_visible": true
    },
    "kernelspec": {
      "display_name": "Python 3",
      "name": "python3"
    },
    "language_info": {
      "codemirror_mode": {
        "name": "ipython",
        "version": 3
      },
      "file_extension": ".py",
      "mimetype": "text/x-python",
      "name": "python",
      "nbconvert_exporter": "python",
      "pygments_lexer": "ipython3",
      "version": "3.11.5"
    }
  },
  "nbformat": 4,
  "nbformat_minor": 0
}