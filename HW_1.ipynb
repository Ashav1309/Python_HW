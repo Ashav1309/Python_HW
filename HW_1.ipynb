{
  "cells": [
    {
      "cell_type": "markdown",
      "metadata": {
        "id": "zIcopkuDSHYU"
      },
      "source": [
        "# Углубленное программирование Python. Модуль 2. Алгоритмы поиска."
      ]
    },
    {
      "cell_type": "markdown",
      "metadata": {
        "id": "tvyyOViKSHYY"
      },
      "source": [
        "### Линейный поиск"
      ]
    },
    {
      "cell_type": "code",
      "execution_count": 1,
      "metadata": {
        "id": "ztfvZHU9SHYY"
      },
      "outputs": [],
      "source": [
        "def lin_search(my_seq, item):\n",
        "    for i in range(len(my_seq)):\n",
        "        if my_seq[i] == item:\n",
        "            return i\n",
        "    return -1"
      ]
    },
    {
      "cell_type": "markdown",
      "metadata": {
        "id": "8mywGNjESHYa"
      },
      "source": [
        "### Бинарный поиск"
      ]
    },
    {
      "cell_type": "code",
      "execution_count": 2,
      "metadata": {
        "id": "62yBhr0BSHYa"
      },
      "outputs": [],
      "source": [
        "def bin_search(my_seq, item):\n",
        "    first = 0\n",
        "    last = len(my_seq) - 1\n",
        "    index = -1\n",
        "    while (first <= last) and (index == -1):\n",
        "        mid = (first+last) // 2\n",
        "        if my_seq[mid] == item:\n",
        "            index = mid\n",
        "        else:\n",
        "            if item < my_seq[mid]:\n",
        "                last = mid - 1\n",
        "            else:\n",
        "                first = mid + 1\n",
        "    return index"
      ]
    },
    {
      "cell_type": "markdown",
      "metadata": {
        "id": "NG4Rr4erSHYb"
      },
      "source": [
        "### Jump Search"
      ]
    },
    {
      "cell_type": "code",
      "execution_count": 3,
      "metadata": {
        "id": "ErjCoybkSHYb"
      },
      "outputs": [],
      "source": [
        "import math\n",
        "\n",
        "def jump_search(my_seq, item):\n",
        "    length = len(my_seq)\n",
        "    jump = int(math.sqrt(length))\n",
        "    left, right = 0, 0\n",
        "    while left < length and my_seq[left] <= item:\n",
        "        right = min(length - 1, left + jump)\n",
        "        if my_seq[left] <= item <= my_seq[right]:\n",
        "            break\n",
        "        left += jump\n",
        "    if left >= length or my_seq[left] > item:\n",
        "        return -1\n",
        "    right = min(length - 1, right)\n",
        "    i = left\n",
        "    while i <= right and my_seq[i] <= item:\n",
        "        if my_seq[i] == item:\n",
        "            return i\n",
        "        i += 1\n",
        "    return -1"
      ]
    },
    {
      "cell_type": "markdown",
      "metadata": {
        "id": "VpjpGJ2rSHYc"
      },
      "source": [
        "### Поиск Фибоначчи"
      ]
    },
    {
      "cell_type": "code",
      "execution_count": 4,
      "metadata": {
        "id": "lFCbzexLSHYc"
      },
      "outputs": [],
      "source": [
        "def fib_search(my_seq, item):\n",
        "    fibm_min_2 = 0\n",
        "    fibm_min_1 = 1\n",
        "    fibm = fibm_min_1 + fibm_min_2\n",
        "\n",
        "    while fibm < len(my_seq):\n",
        "        fibm_min_2 = fibm_min_1\n",
        "        fibm_min_1 = fibm\n",
        "        fibm = fibm_min_1 + fibm_min_2\n",
        "    index = -1\n",
        "\n",
        "    while fibm > 1:\n",
        "        i = min(index + fibm_min_2, (len(my_seq)-1))\n",
        "        if my_seq[i] < item:\n",
        "            fibm = fibm_min_1\n",
        "            fibm_min_1 = fibm_min_2\n",
        "            fibm_min_2 = fibm - fibm_min_1\n",
        "            index = i\n",
        "        elif my_seq[i] > item:\n",
        "            fibm = fibm_min_2\n",
        "            fibm_min_1 = fibm_min_1 - fibm_min_2\n",
        "            fibm_min_2 = fibm - fibm_min_1\n",
        "        else:\n",
        "            return i\n",
        "\n",
        "    if fibm_min_1 and index < (len(my_seq)-1 and my_seq[index+1] == item):\n",
        "        return index+1\n",
        "    return -1"
      ]
    },
    {
      "cell_type": "markdown",
      "metadata": {
        "id": "omIZfpd4SHYc"
      },
      "source": [
        "### Экспоненциальный поиск"
      ]
    },
    {
      "cell_type": "code",
      "execution_count": 5,
      "metadata": {
        "id": "Nj-2VyubSHYd"
      },
      "outputs": [],
      "source": [
        "def bin_search(my_seq, item):\n",
        "    first = 0\n",
        "    last = len(my_seq) - 1\n",
        "    index = -1\n",
        "    while (first <= last) and (index == -1):\n",
        "        mid = (first+last) // 2\n",
        "        if my_seq[mid] == item:\n",
        "            index = mid\n",
        "        else:\n",
        "            if item < my_seq[mid]:\n",
        "                last = mid - 1\n",
        "            else:\n",
        "                first = mid + 1\n",
        "    return index\n",
        "\n",
        "\n",
        "def exp_search(my_seq, item):\n",
        "    if my_seq[0] == item:\n",
        "        return 0\n",
        "    index = 1\n",
        "    while index < len(my_seq) and my_seq[index] <= item:\n",
        "        index = index * 2\n",
        "    return bin_search(my_seq[:min(index, len(my_seq))], item)"
      ]
    },
    {
      "cell_type": "markdown",
      "metadata": {
        "id": "1h1OjH9qSHYd"
      },
      "source": [
        "### Интерполяционный поиск"
      ]
    },
    {
      "cell_type": "code",
      "execution_count": 6,
      "metadata": {
        "id": "wi2jhl3rSHYd"
      },
      "outputs": [],
      "source": [
        "def interp_search(my_seq, item):\n",
        "    low = 0\n",
        "    high = (len(my_seq) - 1)\n",
        "    while low <= high and my_seq[low] <= item <= my_seq[high]:\n",
        "        index = low + int(((float(high - low) / (my_seq[high] - my_seq[low])) * (item - my_seq[low])))\n",
        "        if my_seq[index] == item:\n",
        "            return index\n",
        "        if my_seq[index] < item:\n",
        "            low = index + 1\n",
        "        else:\n",
        "            high = index - 1\n",
        "    return -1"
      ]
    },
    {
      "cell_type": "markdown",
      "metadata": {
        "id": "5R_NAuzbSHYd"
      },
      "source": [
        "## Практическая работа"
      ]
    },
    {
      "cell_type": "markdown",
      "metadata": {
        "id": "vFJ3mzDOSHYd"
      },
      "source": [
        "Используя рассмотренные алгоритмы поиска, реализованные в виде функций, нужно оценить их эффективность на разных типах входных данных.\n",
        "\n",
        "Каждый алгоритм нужно протестировать для случайно сгенерированного и отсортированного списка. Оценить эффективность, сделать выводы о применимости алгоритмов.\n",
        "\n",
        "В качестве входных данных можно использовать сгенерированные списки случайных чисел.\n",
        "\n",
        "Среднее время исполнения можно оценить, используя библиотеку timeit.\n",
        "\n",
        "Пример использования библиотеки timeit:"
      ]
    },
    {
      "cell_type": "code",
      "execution_count": 10,
      "metadata": {
        "id": "jzK8W-JeSHYd"
      },
      "outputs": [],
      "source": [
        "import timeit\n",
        "\n",
        "# Код, время выполнения которого нужно измерить\n",
        "code_to_test = \"\"\n",
        "\n",
        "# Вычисление среднего времени выполнения кода (100 запусков)\n",
        "elapsed_time = timeit.timeit(code_to_test, number=100) / 100\n"
      ]
    },
    {
      "cell_type": "markdown",
      "metadata": {
        "id": "v1HyHq6RSHYd"
      },
      "source": [
        "Генерация списков:"
      ]
    },
    {
      "cell_type": "code",
      "execution_count": 11,
      "metadata": {
        "id": "6rf_ezvISHYe"
      },
      "outputs": [],
      "source": [
        "from random import randint\n",
        "\n",
        "source_list = [randint(-100000000, 100000000) for i in range(1000000)]  # Генерация списка случайных чисел\n",
        "source_item_start = source_list[100]   # Элемент из начала исходного массива\n",
        "source_item_mid = source_list[500000]  # Элемент из середины исходного массива\n",
        "source_item_end = source_list[990000]  # Элемент из конца исходного массива\n",
        "\n",
        "sorted_list = sorted(source_list)   # Отсортированный список\n",
        "sorted_item_start = sorted_list[100]   # Элемент из начала отсортированного массива\n",
        "sorted_item_mid = sorted_list[500000]  # Элемент из середины отсортированного массива\n",
        "sorted_item_end = sorted_list[990000]  # Элемент из конца отсортированного массива"
      ]
    },
    {
      "cell_type": "markdown",
      "source": [
        "## **Решение ПР:**\n",
        "\n",
        "Создадим три отсортированных списка на 1000, 100 000 и 1 000 000 элементов, сравним эффективность различных вариантов поиска.\n"
      ],
      "metadata": {
        "id": "rEM8qj1qtsIX"
      }
    },
    {
      "cell_type": "markdown",
      "source": [
        "# Создадим три списка отсортированных."
      ],
      "metadata": {
        "id": "a5sPLm81z_5j"
      }
    },
    {
      "cell_type": "code",
      "source": [
        "sorted_list1000 = sorted([randint(-10000, 10000) for i in range(1000)])   # Отсортированный список\n",
        "sorted_list1000_mid = sorted_list1000[500]  # Элемент из середины отсортированного массива"
      ],
      "metadata": {
        "id": "NtJ48Dqev3fP"
      },
      "execution_count": 48,
      "outputs": []
    },
    {
      "cell_type": "code",
      "source": [
        "sorted_list100000 = sorted([randint(-1000000, 1000000) for i in range(100000)])   # Отсортированный список\n",
        "sorted_list100000_mid = sorted_list100000[50000]  # Элемент из середины отсортированного массива"
      ],
      "metadata": {
        "id": "APEjO3Tbw58e"
      },
      "execution_count": 49,
      "outputs": []
    },
    {
      "cell_type": "code",
      "source": [
        "sorted_list1000000 = sorted([randint(-10000000, 10000000) for i in range(1000000)])   # Отсортированный список\n",
        "sorted_list1000000_mid = sorted_list1000000[500000]  # Элемент из середины отсортированного массива"
      ],
      "metadata": {
        "id": "TqIMxs1OxGDE"
      },
      "execution_count": 50,
      "outputs": []
    },
    {
      "cell_type": "markdown",
      "source": [
        "# Линейный поиск"
      ],
      "metadata": {
        "id": "Fr270Jlm0EqX"
      }
    },
    {
      "cell_type": "code",
      "source": [
        "code_to_test1 = lambda: lin_search(sorted_list1000, sorted_list1000_mid)\n",
        "code_to_test2 = lambda: lin_search(sorted_list100000, sorted_list100000_mid)\n",
        "code_to_test3 = lambda: lin_search(sorted_list1000000, sorted_list1000000_mid)\n",
        "\n",
        "# Вычисление среднего времени выполнения кода (100 запусков)\n",
        "res_lin_1000 = timeit.timeit(code_to_test1, number=100) / 100\n",
        "res_lin_100000 = timeit.timeit(code_to_test2, number=100) / 100\n",
        "res_lin_1000000 = timeit.timeit(code_to_test3, number=100) / 100\n"
      ],
      "metadata": {
        "id": "ouHSJ8zmtrmc"
      },
      "execution_count": 59,
      "outputs": []
    },
    {
      "cell_type": "markdown",
      "source": [
        "# Бинарный поиск"
      ],
      "metadata": {
        "id": "AqN2pl7A25NL"
      }
    },
    {
      "cell_type": "code",
      "source": [
        "code_to_test1 = lambda: bin_search(sorted_list1000, sorted_list1000_mid)\n",
        "code_to_test2 = lambda: bin_search(sorted_list100000, sorted_list100000_mid)\n",
        "code_to_test3 = lambda: bin_search(sorted_list1000000, sorted_list1000000_mid)\n",
        "\n",
        "# Вычисление среднего времени выполнения кода (100 запусков)\n",
        "res_bin_1000 = timeit.timeit(code_to_test1, number=100) / 100\n",
        "res_bin_100000 = timeit.timeit(code_to_test2, number=100) / 100\n",
        "res_bin_1000000 = timeit.timeit(code_to_test3, number=100) / 100\n"
      ],
      "metadata": {
        "id": "amfqw1Zl28YJ"
      },
      "execution_count": 60,
      "outputs": []
    },
    {
      "cell_type": "markdown",
      "source": [
        "# Jump search"
      ],
      "metadata": {
        "id": "eizrVqtT3PDU"
      }
    },
    {
      "cell_type": "code",
      "source": [
        "code_to_test1 = lambda: jump_search(sorted_list1000, sorted_list1000_mid)\n",
        "code_to_test2 = lambda: jump_search(sorted_list100000, sorted_list100000_mid)\n",
        "code_to_test3 = lambda: jump_search(sorted_list1000000, sorted_list1000000_mid)\n",
        "\n",
        "# Вычисление среднего времени выполнения кода (100 запусков)\n",
        "res_jump_1000 = timeit.timeit(code_to_test1, number=100) / 100\n",
        "res_jump_100000 = timeit.timeit(code_to_test2, number=100) / 100\n",
        "res_jump_1000000 = timeit.timeit(code_to_test3, number=100) / 100"
      ],
      "metadata": {
        "id": "7aOCBJtx3VHm"
      },
      "execution_count": 61,
      "outputs": []
    },
    {
      "cell_type": "markdown",
      "source": [
        "# Поиск Фибоначчи"
      ],
      "metadata": {
        "id": "4I9yBEN13nPX"
      }
    },
    {
      "cell_type": "code",
      "source": [
        "code_to_test1 = lambda: fib_search(sorted_list1000, sorted_list1000_mid)\n",
        "code_to_test2 = lambda: fib_search(sorted_list100000, sorted_list100000_mid)\n",
        "code_to_test3 = lambda: fib_search(sorted_list1000000, sorted_list1000000_mid)\n",
        "\n",
        "# Вычисление среднего времени выполнения кода (100 запусков)\n",
        "res_fib_1000 = timeit.timeit(code_to_test1, number=100) / 100\n",
        "res_fib_100000 = timeit.timeit(code_to_test2, number=100) / 100\n",
        "res_fib_1000000 = timeit.timeit(code_to_test3, number=100) / 100"
      ],
      "metadata": {
        "id": "bARgCfr833Al"
      },
      "execution_count": 62,
      "outputs": []
    },
    {
      "cell_type": "markdown",
      "source": [
        "# Экспоненциальный поиск"
      ],
      "metadata": {
        "id": "yfe7W72-4DpK"
      }
    },
    {
      "cell_type": "code",
      "source": [
        "code_to_test1 = lambda: exp_search(sorted_list1000, sorted_list1000_mid)\n",
        "code_to_test2 = lambda: exp_search(sorted_list100000, sorted_list100000_mid)\n",
        "code_to_test3 = lambda: exp_search(sorted_list1000000, sorted_list1000000_mid)\n",
        "\n",
        "# Вычисление среднего времени выполнения кода (100 запусков)\n",
        "res_exp_1000 = timeit.timeit(code_to_test1, number=100) / 100\n",
        "res_exp_100000 = timeit.timeit(code_to_test2, number=100) / 100\n",
        "res_exp_1000000 = timeit.timeit(code_to_test3, number=100) / 100"
      ],
      "metadata": {
        "id": "rWkindMJ4UVJ"
      },
      "execution_count": 63,
      "outputs": []
    },
    {
      "cell_type": "markdown",
      "source": [
        "# Интерполяционный поиск"
      ],
      "metadata": {
        "id": "iRSJHqUC4Hcn"
      }
    },
    {
      "cell_type": "code",
      "source": [
        "code_to_test1 = lambda: interp_search(sorted_list1000, sorted_list1000_mid)\n",
        "code_to_test2 = lambda: interp_search(sorted_list100000, sorted_list100000_mid)\n",
        "code_to_test3 = lambda: interp_search(sorted_list1000000, sorted_list1000000_mid)\n",
        "\n",
        "# Вычисление среднего времени выполнения кода (100 запусков)\n",
        "res_int_1000 = timeit.timeit(code_to_test1, number=100) / 100\n",
        "res_int_100000 = timeit.timeit(code_to_test2, number=100) / 100\n",
        "res_int_1000000 = timeit.timeit(code_to_test3, number=100) / 100"
      ],
      "metadata": {
        "id": "FdSSKvZx4xE_"
      },
      "execution_count": 65,
      "outputs": []
    },
    {
      "cell_type": "code",
      "source": [
        "import pandas as pd\n",
        "\n",
        "# создадим датафрейм\n",
        "df = pd.DataFrame({'SearchType': ['lin_search', 'bin_search', 'jump_search', 'fib_search', 'exp_search', 'interp_search'], '1000':[res_lin_1000,res_bin_1000,res_jump_1000,res_fib_1000,res_exp_1000,res_int_1000], '100 000':[res_lin_100000,res_bin_100000,res_jump_100000,res_fib_100000,res_exp_100000,res_int_100000], '1 000 000':[res_lin_1000000,res_bin_1000000,res_jump_1000000,res_fib_1000000,res_exp_1000000,res_int_1000000]})\n",
        "df"
      ],
      "metadata": {
        "colab": {
          "base_uri": "https://localhost:8080/",
          "height": 235
        },
        "id": "LJAhsTVKyE0X",
        "outputId": "b7e34765-744c-48a1-8d79-435655fd5215"
      },
      "execution_count": 79,
      "outputs": [
        {
          "output_type": "execute_result",
          "data": {
            "text/plain": [
              "      SearchType      1000   100 000  1 000 000\n",
              "0     lin_search  0.000054  0.004742   0.105796\n",
              "1     bin_search  0.000004  0.000030   0.000009\n",
              "2    jump_search  0.000011  0.000134   0.000419\n",
              "3     fib_search  0.000014  0.000019   0.000023\n",
              "4     exp_search  0.000010  0.000469   0.030975\n",
              "5  interp_search  0.000006  0.000007   0.000003"
            ],
            "text/html": [
              "\n",
              "  <div id=\"df-2d9cf869-a19c-4946-8fcb-fd11acc33e58\" class=\"colab-df-container\">\n",
              "    <div>\n",
              "<style scoped>\n",
              "    .dataframe tbody tr th:only-of-type {\n",
              "        vertical-align: middle;\n",
              "    }\n",
              "\n",
              "    .dataframe tbody tr th {\n",
              "        vertical-align: top;\n",
              "    }\n",
              "\n",
              "    .dataframe thead th {\n",
              "        text-align: right;\n",
              "    }\n",
              "</style>\n",
              "<table border=\"1\" class=\"dataframe\">\n",
              "  <thead>\n",
              "    <tr style=\"text-align: right;\">\n",
              "      <th></th>\n",
              "      <th>SearchType</th>\n",
              "      <th>1000</th>\n",
              "      <th>100 000</th>\n",
              "      <th>1 000 000</th>\n",
              "    </tr>\n",
              "  </thead>\n",
              "  <tbody>\n",
              "    <tr>\n",
              "      <th>0</th>\n",
              "      <td>lin_search</td>\n",
              "      <td>0.000054</td>\n",
              "      <td>0.004742</td>\n",
              "      <td>0.105796</td>\n",
              "    </tr>\n",
              "    <tr>\n",
              "      <th>1</th>\n",
              "      <td>bin_search</td>\n",
              "      <td>0.000004</td>\n",
              "      <td>0.000030</td>\n",
              "      <td>0.000009</td>\n",
              "    </tr>\n",
              "    <tr>\n",
              "      <th>2</th>\n",
              "      <td>jump_search</td>\n",
              "      <td>0.000011</td>\n",
              "      <td>0.000134</td>\n",
              "      <td>0.000419</td>\n",
              "    </tr>\n",
              "    <tr>\n",
              "      <th>3</th>\n",
              "      <td>fib_search</td>\n",
              "      <td>0.000014</td>\n",
              "      <td>0.000019</td>\n",
              "      <td>0.000023</td>\n",
              "    </tr>\n",
              "    <tr>\n",
              "      <th>4</th>\n",
              "      <td>exp_search</td>\n",
              "      <td>0.000010</td>\n",
              "      <td>0.000469</td>\n",
              "      <td>0.030975</td>\n",
              "    </tr>\n",
              "    <tr>\n",
              "      <th>5</th>\n",
              "      <td>interp_search</td>\n",
              "      <td>0.000006</td>\n",
              "      <td>0.000007</td>\n",
              "      <td>0.000003</td>\n",
              "    </tr>\n",
              "  </tbody>\n",
              "</table>\n",
              "</div>\n",
              "    <div class=\"colab-df-buttons\">\n",
              "\n",
              "  <div class=\"colab-df-container\">\n",
              "    <button class=\"colab-df-convert\" onclick=\"convertToInteractive('df-2d9cf869-a19c-4946-8fcb-fd11acc33e58')\"\n",
              "            title=\"Convert this dataframe to an interactive table.\"\n",
              "            style=\"display:none;\">\n",
              "\n",
              "  <svg xmlns=\"http://www.w3.org/2000/svg\" height=\"24px\" viewBox=\"0 -960 960 960\">\n",
              "    <path d=\"M120-120v-720h720v720H120Zm60-500h600v-160H180v160Zm220 220h160v-160H400v160Zm0 220h160v-160H400v160ZM180-400h160v-160H180v160Zm440 0h160v-160H620v160ZM180-180h160v-160H180v160Zm440 0h160v-160H620v160Z\"/>\n",
              "  </svg>\n",
              "    </button>\n",
              "\n",
              "  <style>\n",
              "    .colab-df-container {\n",
              "      display:flex;\n",
              "      gap: 12px;\n",
              "    }\n",
              "\n",
              "    .colab-df-convert {\n",
              "      background-color: #E8F0FE;\n",
              "      border: none;\n",
              "      border-radius: 50%;\n",
              "      cursor: pointer;\n",
              "      display: none;\n",
              "      fill: #1967D2;\n",
              "      height: 32px;\n",
              "      padding: 0 0 0 0;\n",
              "      width: 32px;\n",
              "    }\n",
              "\n",
              "    .colab-df-convert:hover {\n",
              "      background-color: #E2EBFA;\n",
              "      box-shadow: 0px 1px 2px rgba(60, 64, 67, 0.3), 0px 1px 3px 1px rgba(60, 64, 67, 0.15);\n",
              "      fill: #174EA6;\n",
              "    }\n",
              "\n",
              "    .colab-df-buttons div {\n",
              "      margin-bottom: 4px;\n",
              "    }\n",
              "\n",
              "    [theme=dark] .colab-df-convert {\n",
              "      background-color: #3B4455;\n",
              "      fill: #D2E3FC;\n",
              "    }\n",
              "\n",
              "    [theme=dark] .colab-df-convert:hover {\n",
              "      background-color: #434B5C;\n",
              "      box-shadow: 0px 1px 3px 1px rgba(0, 0, 0, 0.15);\n",
              "      filter: drop-shadow(0px 1px 2px rgba(0, 0, 0, 0.3));\n",
              "      fill: #FFFFFF;\n",
              "    }\n",
              "  </style>\n",
              "\n",
              "    <script>\n",
              "      const buttonEl =\n",
              "        document.querySelector('#df-2d9cf869-a19c-4946-8fcb-fd11acc33e58 button.colab-df-convert');\n",
              "      buttonEl.style.display =\n",
              "        google.colab.kernel.accessAllowed ? 'block' : 'none';\n",
              "\n",
              "      async function convertToInteractive(key) {\n",
              "        const element = document.querySelector('#df-2d9cf869-a19c-4946-8fcb-fd11acc33e58');\n",
              "        const dataTable =\n",
              "          await google.colab.kernel.invokeFunction('convertToInteractive',\n",
              "                                                    [key], {});\n",
              "        if (!dataTable) return;\n",
              "\n",
              "        const docLinkHtml = 'Like what you see? Visit the ' +\n",
              "          '<a target=\"_blank\" href=https://colab.research.google.com/notebooks/data_table.ipynb>data table notebook</a>'\n",
              "          + ' to learn more about interactive tables.';\n",
              "        element.innerHTML = '';\n",
              "        dataTable['output_type'] = 'display_data';\n",
              "        await google.colab.output.renderOutput(dataTable, element);\n",
              "        const docLink = document.createElement('div');\n",
              "        docLink.innerHTML = docLinkHtml;\n",
              "        element.appendChild(docLink);\n",
              "      }\n",
              "    </script>\n",
              "  </div>\n",
              "\n",
              "\n",
              "<div id=\"df-b7f087ad-009f-4f37-9e6f-3fa6ccd86f8d\">\n",
              "  <button class=\"colab-df-quickchart\" onclick=\"quickchart('df-b7f087ad-009f-4f37-9e6f-3fa6ccd86f8d')\"\n",
              "            title=\"Suggest charts\"\n",
              "            style=\"display:none;\">\n",
              "\n",
              "<svg xmlns=\"http://www.w3.org/2000/svg\" height=\"24px\"viewBox=\"0 0 24 24\"\n",
              "     width=\"24px\">\n",
              "    <g>\n",
              "        <path d=\"M19 3H5c-1.1 0-2 .9-2 2v14c0 1.1.9 2 2 2h14c1.1 0 2-.9 2-2V5c0-1.1-.9-2-2-2zM9 17H7v-7h2v7zm4 0h-2V7h2v10zm4 0h-2v-4h2v4z\"/>\n",
              "    </g>\n",
              "</svg>\n",
              "  </button>\n",
              "\n",
              "<style>\n",
              "  .colab-df-quickchart {\n",
              "      --bg-color: #E8F0FE;\n",
              "      --fill-color: #1967D2;\n",
              "      --hover-bg-color: #E2EBFA;\n",
              "      --hover-fill-color: #174EA6;\n",
              "      --disabled-fill-color: #AAA;\n",
              "      --disabled-bg-color: #DDD;\n",
              "  }\n",
              "\n",
              "  [theme=dark] .colab-df-quickchart {\n",
              "      --bg-color: #3B4455;\n",
              "      --fill-color: #D2E3FC;\n",
              "      --hover-bg-color: #434B5C;\n",
              "      --hover-fill-color: #FFFFFF;\n",
              "      --disabled-bg-color: #3B4455;\n",
              "      --disabled-fill-color: #666;\n",
              "  }\n",
              "\n",
              "  .colab-df-quickchart {\n",
              "    background-color: var(--bg-color);\n",
              "    border: none;\n",
              "    border-radius: 50%;\n",
              "    cursor: pointer;\n",
              "    display: none;\n",
              "    fill: var(--fill-color);\n",
              "    height: 32px;\n",
              "    padding: 0;\n",
              "    width: 32px;\n",
              "  }\n",
              "\n",
              "  .colab-df-quickchart:hover {\n",
              "    background-color: var(--hover-bg-color);\n",
              "    box-shadow: 0 1px 2px rgba(60, 64, 67, 0.3), 0 1px 3px 1px rgba(60, 64, 67, 0.15);\n",
              "    fill: var(--button-hover-fill-color);\n",
              "  }\n",
              "\n",
              "  .colab-df-quickchart-complete:disabled,\n",
              "  .colab-df-quickchart-complete:disabled:hover {\n",
              "    background-color: var(--disabled-bg-color);\n",
              "    fill: var(--disabled-fill-color);\n",
              "    box-shadow: none;\n",
              "  }\n",
              "\n",
              "  .colab-df-spinner {\n",
              "    border: 2px solid var(--fill-color);\n",
              "    border-color: transparent;\n",
              "    border-bottom-color: var(--fill-color);\n",
              "    animation:\n",
              "      spin 1s steps(1) infinite;\n",
              "  }\n",
              "\n",
              "  @keyframes spin {\n",
              "    0% {\n",
              "      border-color: transparent;\n",
              "      border-bottom-color: var(--fill-color);\n",
              "      border-left-color: var(--fill-color);\n",
              "    }\n",
              "    20% {\n",
              "      border-color: transparent;\n",
              "      border-left-color: var(--fill-color);\n",
              "      border-top-color: var(--fill-color);\n",
              "    }\n",
              "    30% {\n",
              "      border-color: transparent;\n",
              "      border-left-color: var(--fill-color);\n",
              "      border-top-color: var(--fill-color);\n",
              "      border-right-color: var(--fill-color);\n",
              "    }\n",
              "    40% {\n",
              "      border-color: transparent;\n",
              "      border-right-color: var(--fill-color);\n",
              "      border-top-color: var(--fill-color);\n",
              "    }\n",
              "    60% {\n",
              "      border-color: transparent;\n",
              "      border-right-color: var(--fill-color);\n",
              "    }\n",
              "    80% {\n",
              "      border-color: transparent;\n",
              "      border-right-color: var(--fill-color);\n",
              "      border-bottom-color: var(--fill-color);\n",
              "    }\n",
              "    90% {\n",
              "      border-color: transparent;\n",
              "      border-bottom-color: var(--fill-color);\n",
              "    }\n",
              "  }\n",
              "</style>\n",
              "\n",
              "  <script>\n",
              "    async function quickchart(key) {\n",
              "      const quickchartButtonEl =\n",
              "        document.querySelector('#' + key + ' button');\n",
              "      quickchartButtonEl.disabled = true;  // To prevent multiple clicks.\n",
              "      quickchartButtonEl.classList.add('colab-df-spinner');\n",
              "      try {\n",
              "        const charts = await google.colab.kernel.invokeFunction(\n",
              "            'suggestCharts', [key], {});\n",
              "      } catch (error) {\n",
              "        console.error('Error during call to suggestCharts:', error);\n",
              "      }\n",
              "      quickchartButtonEl.classList.remove('colab-df-spinner');\n",
              "      quickchartButtonEl.classList.add('colab-df-quickchart-complete');\n",
              "    }\n",
              "    (() => {\n",
              "      let quickchartButtonEl =\n",
              "        document.querySelector('#df-b7f087ad-009f-4f37-9e6f-3fa6ccd86f8d button');\n",
              "      quickchartButtonEl.style.display =\n",
              "        google.colab.kernel.accessAllowed ? 'block' : 'none';\n",
              "    })();\n",
              "  </script>\n",
              "</div>\n",
              "    </div>\n",
              "  </div>\n"
            ],
            "application/vnd.google.colaboratory.intrinsic+json": {
              "type": "dataframe",
              "variable_name": "df",
              "summary": "{\n  \"name\": \"df\",\n  \"rows\": 6,\n  \"fields\": [\n    {\n      \"column\": \"SearchType\",\n      \"properties\": {\n        \"dtype\": \"string\",\n        \"num_unique_values\": 6,\n        \"samples\": [\n          \"lin_search\",\n          \"bin_search\",\n          \"interp_search\"\n        ],\n        \"semantic_type\": \"\",\n        \"description\": \"\"\n      }\n    },\n    {\n      \"column\": \"1000\",\n      \"properties\": {\n        \"dtype\": \"number\",\n        \"std\": 1.868711334483803e-05,\n        \"min\": 4.470819999369269e-06,\n        \"max\": 5.4087329999674694e-05,\n        \"num_unique_values\": 6,\n        \"samples\": [\n          5.4087329999674694e-05,\n          4.470819999369269e-06,\n          6.015980002302967e-06\n        ],\n        \"semantic_type\": \"\",\n        \"description\": \"\"\n      }\n    },\n    {\n      \"column\": \"100 000\",\n      \"properties\": {\n        \"dtype\": \"number\",\n        \"std\": 0.0018901230784282672,\n        \"min\": 7.109480002327473e-06,\n        \"max\": 0.00474211872000069,\n        \"num_unique_values\": 6,\n        \"samples\": [\n          0.00474211872000069,\n          3.0293380000330216e-05,\n          7.109480002327473e-06\n        ],\n        \"semantic_type\": \"\",\n        \"description\": \"\"\n      }\n    },\n    {\n      \"column\": \"1 000 000\",\n      \"properties\": {\n        \"dtype\": \"number\",\n        \"std\": 0.042459453102109086,\n        \"min\": 3.1001299976196606e-06,\n        \"max\": 0.10579641771000298,\n        \"num_unique_values\": 6,\n        \"samples\": [\n          0.10579641771000298,\n          8.902529998522368e-06,\n          3.1001299976196606e-06\n        ],\n        \"semantic_type\": \"\",\n        \"description\": \"\"\n      }\n    }\n  ]\n}"
            }
          },
          "metadata": {},
          "execution_count": 79
        }
      ]
    },
    {
      "source": [
        "from matplotlib import pyplot as plt\n",
        "import seaborn as sns\n",
        "figsize = (12, 1.2 * len(df['SearchType'].unique()))\n",
        "plt.figure(figsize=figsize)\n",
        "sns.violinplot(df, x='1000', y='SearchType', inner='stick', palette='Dark2')\n",
        "sns.despine(top=True, right=True, bottom=True, left=True)"
      ],
      "cell_type": "code",
      "metadata": {
        "colab": {
          "base_uri": "https://localhost:8080/",
          "height": 739
        },
        "id": "Mb0uRoMx6tBL",
        "outputId": "4b2130db-f0f5-47d3-bb03-d029edde9328"
      },
      "execution_count": 80,
      "outputs": [
        {
          "output_type": "stream",
          "name": "stderr",
          "text": [
            "<ipython-input-80-dae7de1b51ba>:5: FutureWarning: \n",
            "\n",
            "Passing `palette` without assigning `hue` is deprecated and will be removed in v0.14.0. Assign the `y` variable to `hue` and set `legend=False` for the same effect.\n",
            "\n",
            "  sns.violinplot(df, x='1000', y='SearchType', inner='stick', palette='Dark2')\n"
          ]
        },
        {
          "output_type": "display_data",
          "data": {
            "text/plain": [
              "<Figure size 1200x720 with 1 Axes>"
            ],
            "image/png": "[encoded data removed]"
          },
          "metadata": {}
        }
      ]
    },
    {
      "source": [
        "# @title SearchType vs 100 000\n",
        "\n",
        "from matplotlib import pyplot as plt\n",
        "import seaborn as sns\n",
        "figsize = (12, 1.2 * len(df['SearchType'].unique()))\n",
        "plt.figure(figsize=figsize)\n",
        "sns.violinplot(df, x='100 000', y='SearchType', inner='stick', palette='Dark2')\n",
        "sns.despine(top=True, right=True, bottom=True, left=True)"
      ],
      "cell_type": "code",
      "execution_count": 81,
      "outputs": [
        {
          "output_type": "stream",
          "name": "stderr",
          "text": [
            "<ipython-input-81-9f09ddc7a435>:7: FutureWarning: \n",
            "\n",
            "Passing `palette` without assigning `hue` is deprecated and will be removed in v0.14.0. Assign the `y` variable to `hue` and set `legend=False` for the same effect.\n",
            "\n",
            "  sns.violinplot(df, x='100 000', y='SearchType', inner='stick', palette='Dark2')\n"
          ]
        },
        {
          "output_type": "display_data",
          "data": {
            "text/plain": [
              "<Figure size 1200x720 with 1 Axes>"
            ],
            "image/png": "[encoded data removed]"
          },
          "metadata": {}
        }
      ],
      "metadata": {
        "cellView": "form",
        "colab": {
          "base_uri": "https://localhost:8080/",
          "height": 739
        },
        "id": "ZLGiJj5l7EB0",
        "outputId": "0c575d11-faa9-4cf6-dc92-3b2f291ccff9"
      }
    },
    {
      "source": [
        "# @title SearchType vs 1 000 000\n",
        "\n",
        "from matplotlib import pyplot as plt\n",
        "import seaborn as sns\n",
        "figsize = (12, 1.2 * len(df['SearchType'].unique()))\n",
        "plt.figure(figsize=figsize)\n",
        "sns.violinplot(df, x='1 000 000', y='SearchType', inner='stick', palette='Dark2')\n",
        "sns.despine(top=True, right=True, bottom=True, left=True)"
      ],
      "cell_type": "code",
      "execution_count": 82,
      "outputs": [
        {
          "output_type": "stream",
          "name": "stderr",
          "text": [
            "<ipython-input-82-6ad2d84dda0b>:7: FutureWarning: \n",
            "\n",
            "Passing `palette` without assigning `hue` is deprecated and will be removed in v0.14.0. Assign the `y` variable to `hue` and set `legend=False` for the same effect.\n",
            "\n",
            "  sns.violinplot(df, x='1 000 000', y='SearchType', inner='stick', palette='Dark2')\n"
          ]
        },
        {
          "output_type": "display_data",
          "data": {
            "text/plain": [
              "<Figure size 1200x720 with 1 Axes>"
            ],
            "image/png": "[encoded data removed]"
          },
          "metadata": {}
        }
      ],
      "metadata": {
        "cellView": "form",
        "colab": {
          "base_uri": "https://localhost:8080/",
          "height": 739
        },
        "id": "cpjtuQps7I-I",
        "outputId": "f9042470-8c87-4ec6-baa1-89ef4eb87abc"
      }
    },
    {
      "cell_type": "markdown",
      "source": [
        "# Вывод\n",
        "\n",
        "Из графиков видим, что во всех случаях себя хорошо показали бинарный и интерполяционный поиск. Так же на больших данных эффективны были поиск Фибоначчи и jump search. Экспонинциальный поиск на больших данных отработал дольше, чем на малых данных, но в целом уступает предыдущим способам. А линейный поиск оказался самым малоэффективных на любом количестве данных.\n",
        "\n",
        "Можно сделать вывод, что лучше всего использовать бинарный или интерполяционный поиск. Если мы уверены, что данных будет немного, то можно использовать поиск Фибоначчи или jump search. Остальные варианты поиска не следует использовать в случаях, когда важна скорость выполнения."
      ],
      "metadata": {
        "id": "4HalQKXV7Lfz"
      }
    }
  ],
  "metadata": {
    "kernelspec": {
      "display_name": "Python 3",
      "language": "python",
      "name": "python3"
    },
    "language_info": {
      "codemirror_mode": {
        "name": "ipython",
        "version": 3
      },
      "file_extension": ".py",
      "mimetype": "text/x-python",
      "name": "python",
      "nbconvert_exporter": "python",
      "pygments_lexer": "ipython3",
      "version": "3.11.5"
    },
    "colab": {
      "provenance": []
    }
  },
  "nbformat": 4,
  "nbformat_minor": 0
}